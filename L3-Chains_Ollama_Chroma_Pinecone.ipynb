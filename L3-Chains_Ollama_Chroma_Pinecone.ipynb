{
 "cells": [
  {
   "cell_type": "markdown",
   "id": "9fee959e",
   "metadata": {},
   "source": [
    "# Chains in LangChain\n",
    "\n",
    "## Outline\n",
    "\n",
    "* LLMChain\n",
    "* Sequential Chains\n",
    "  * SimpleSequentialChain\n",
    "  * SequentialChain\n",
    "* Router Chain"
   ]
  },
  {
   "cell_type": "code",
   "execution_count": 8,
   "id": "f415c553",
   "metadata": {},
   "outputs": [
    {
     "name": "stdout",
     "output_type": "stream",
     "text": [
      "Embed API Key: ollama\n",
      "Infer API Key: ollama\n",
      "Embed API Base: http://localhost:11434/v1\n",
      "Infer API Base: http://localhost:11434/v1\n",
      "Embeddings Model: nomic-embed-text:latest\n",
      "Inference Model: gemma:2b\n"
     ]
    }
   ],
   "source": [
    "#import warnings\n",
    "#warnings.filterwarnings('ignore')\n",
    "\n",
    "useLogging = False # set to True to get logging information (and hopefully track which LLM is called when)\n",
    "use_Ollama_For_Inference = True # set to True to use Ollama inference models (and pull at least the gemma:2b model)\n",
    "use_Ollama_For_Embedding = True # set to True to use Ollama embedddings models (and pull at least the nomic-embed-text:latest model)\n",
    "use_Pinecone = False #Turn on to use a Pinecone database. Sign up at www.pinecone.io for a free plan (including 5 indexes)\n",
    "use_Chroma = True #Turn on to use a local Chroma database. Supersedes the use_Pinecone flag above (and turns it off)\n",
    "use_Test_Data = False # set to True to use LimitedCSVLoader class below and only load the 577th item from the CSV file and test that querying with embeddings work well.\n",
    "\n",
    "import openai\n",
    "#Defaults to OpenAI if use_Ollama_For_Inference=False and use_Ollama_For_Inference=False\n",
    "openai.api_base = inferApiBase = embedApiBase =  \"https://api.openai.com/v1\"\n",
    "openai.base_url = inferBaseUrl = embedBaseUrl = \"https://api.openai.com\"\n",
    "openai.api_key = inferApiKey = embedApiKey = os.environ['OPENAI_API_KEY']\n",
    "embeddings_model_name = \"text-embedding-ada-002\"\n",
    "embeddings_model_name_short = \"ada\"\n",
    "embeddings_vector_size = 1536\n",
    "infer_model_name = \"gpt-3.5-turbo\"\n",
    "llm_platform = \"openai\"\n",
    "embed_chunk_size = 1000\n",
    "embed_overlap = 0\n",
    "\n",
    "\n",
    "if use_Ollama_For_Inference:\n",
    "    inferApiBase = \"http://localhost:11434/v1\"\n",
    "    inferBaseUrl = \"http://localhost:1143\"\n",
    "    inferApiKey = \"ollama\"\n",
    "    infer_model_name = \"gemma:2b\" #you can/should customize this to test different Ollama LLMs. Use the NAME field from `ollama list`\n",
    "\n",
    "\n",
    "if use_Ollama_For_Embedding:\n",
    "    llm_platform = \"ollama\"\n",
    "    embedApiBase = \"http://localhost:11434/v1\"\n",
    "    embedBaseUrl = \"http://localhost:1143\"\n",
    "    embedApiKey = \"ollama\"\n",
    "    #embeddings_model_name = \"mxbai-embed-large:latest\"\n",
    "    #embeddings_model_name_short = \"mxbai\"\n",
    "    #embeddings_vector_size = 1024\n",
    "    #embed_chunk_size = 512\n",
    "    #embed_overlap = 10\n",
    "    \n",
    "    embeddings_model_name = \"nomic-embed-text:latest\" #you can/should customize this to test different Ollama embedding LLMs. Use the NAME field from `ollama list`\n",
    "    embeddings_model_name_short = \"nomic\"\n",
    "    embeddings_vector_size = 768\n",
    "    embed_chunk_size = 8192\n",
    "    embed_overlap = 0\n",
    "\n",
    "print('Embed API Key:', embedApiKey)\n",
    "print('Infer API Key:', inferApiKey)\n",
    "print('Embed API Base:', embedApiBase)\n",
    "print('Infer API Base:', inferApiBase)\n",
    "print('Embeddings Model:', embeddings_model_name)\n",
    "print('Inference Model:', infer_model_name)\n",
    "\n",
    "from langchain_openai import OpenAIEmbeddings\n",
    "from langchain_community.embeddings import OllamaEmbeddings\n",
    "\n",
    "\n",
    "if use_Ollama_For_Embedding:\n",
    "    embeddings_model = OllamaEmbeddings(model=embeddings_model_name, embed_instruction='', query_instruction='')\n",
    "    #embeddings_model = OllamaEmbeddings(model=embeddings_model_name)\n",
    "else:\n",
    "    embeddings_model = OpenAIEmbeddings(model=embeddings_model_name)\n",
    "\n",
    "if useLogging:\n",
    "    import logging\n",
    "    import requests \n",
    "\n",
    "\n",
    "    logging.basicConfig(level=logging.DEBUG,\n",
    "                        format='%(asctime)s - %(levelname)s - %(filename)s:%(funcName)s:%(lineno)d - %(message)s',\n",
    "                        datefmt='%Y-%m-%d %H:%M:%S')\n",
    "    requests.packages.urllib3.add_stderr_logger()\n",
    "    OLLAMA_DEBUG=1\n",
    "    langchain.debug = True"
   ]
  },
  {
   "cell_type": "code",
   "execution_count": 9,
   "id": "0a8e67a4",
   "metadata": {},
   "outputs": [],
   "source": [
    "import os\n",
    "\n",
    "from dotenv import load_dotenv, find_dotenv\n",
    "_ = load_dotenv(find_dotenv()) # read local .env file"
   ]
  },
  {
   "cell_type": "code",
   "execution_count": null,
   "id": "1eec321f",
   "metadata": {},
   "outputs": [],
   "source": [
    "#!pip install pandas"
   ]
  },
  {
   "cell_type": "code",
   "execution_count": 3,
   "id": "44195cd3",
   "metadata": {},
   "outputs": [],
   "source": [
    "import pandas as pd\n",
    "df = pd.read_csv('Data.csv')"
   ]
  },
  {
   "cell_type": "code",
   "execution_count": 4,
   "id": "99095890",
   "metadata": {},
   "outputs": [
    {
     "data": {
      "text/html": [
       "<div>\n",
       "<style scoped>\n",
       "    .dataframe tbody tr th:only-of-type {\n",
       "        vertical-align: middle;\n",
       "    }\n",
       "\n",
       "    .dataframe tbody tr th {\n",
       "        vertical-align: top;\n",
       "    }\n",
       "\n",
       "    .dataframe thead th {\n",
       "        text-align: right;\n",
       "    }\n",
       "</style>\n",
       "<table border=\"1\" class=\"dataframe\">\n",
       "  <thead>\n",
       "    <tr style=\"text-align: right;\">\n",
       "      <th></th>\n",
       "      <th>Product</th>\n",
       "      <th>Review</th>\n",
       "    </tr>\n",
       "  </thead>\n",
       "  <tbody>\n",
       "    <tr>\n",
       "      <th>0</th>\n",
       "      <td>Queen Size Sheet Set</td>\n",
       "      <td>I ordered a king size set. My only criticism w...</td>\n",
       "    </tr>\n",
       "    <tr>\n",
       "      <th>1</th>\n",
       "      <td>Waterproof Phone Pouch</td>\n",
       "      <td>I loved the waterproof sac, although the openi...</td>\n",
       "    </tr>\n",
       "    <tr>\n",
       "      <th>2</th>\n",
       "      <td>Luxury Air Mattress</td>\n",
       "      <td>This mattress had a small hole in the top of i...</td>\n",
       "    </tr>\n",
       "    <tr>\n",
       "      <th>3</th>\n",
       "      <td>Pillows Insert</td>\n",
       "      <td>This is the best throw pillow fillers on Amazo...</td>\n",
       "    </tr>\n",
       "    <tr>\n",
       "      <th>4</th>\n",
       "      <td>Milk Frother Handheld\\r\\n</td>\n",
       "      <td>I loved this product. But they only seem to l...</td>\n",
       "    </tr>\n",
       "  </tbody>\n",
       "</table>\n",
       "</div>"
      ],
      "text/plain": [
       "                     Product  \\\n",
       "0       Queen Size Sheet Set   \n",
       "1     Waterproof Phone Pouch   \n",
       "2        Luxury Air Mattress   \n",
       "3             Pillows Insert   \n",
       "4  Milk Frother Handheld\\r\\n   \n",
       "\n",
       "                                              Review  \n",
       "0  I ordered a king size set. My only criticism w...  \n",
       "1  I loved the waterproof sac, although the openi...  \n",
       "2  This mattress had a small hole in the top of i...  \n",
       "3  This is the best throw pillow fillers on Amazo...  \n",
       "4   I loved this product. But they only seem to l...  "
      ]
     },
     "execution_count": 4,
     "metadata": {},
     "output_type": "execute_result"
    }
   ],
   "source": [
    "df.head()"
   ]
  },
  {
   "cell_type": "markdown",
   "id": "62089df8",
   "metadata": {},
   "source": [
    "## LLMChain"
   ]
  },
  {
   "cell_type": "code",
   "execution_count": 10,
   "id": "d5fa41cc",
   "metadata": {},
   "outputs": [],
   "source": [
    "from langchain_openai import ChatOpenAI\n",
    "from langchain.prompts import ChatPromptTemplate\n",
    "from langchain.chains import LLMChain"
   ]
  },
  {
   "cell_type": "code",
   "execution_count": 11,
   "id": "f12434e2",
   "metadata": {},
   "outputs": [],
   "source": [
    "llm = ChatOpenAI(temperature=0.9, base_url=inferApiBase, model=infer_model_name)\n"
   ]
  },
  {
   "cell_type": "code",
   "execution_count": 12,
   "id": "e236f8ed",
   "metadata": {},
   "outputs": [],
   "source": [
    "prompt = ChatPromptTemplate.from_template(\n",
    "    \"What is the best name to describe \\\n",
    "    a company that makes {product}?\"\n",
    ")"
   ]
  },
  {
   "cell_type": "code",
   "execution_count": 8,
   "id": "67a0643a",
   "metadata": {},
   "outputs": [],
   "source": [
    "\n",
    "chain = prompt | llm"
   ]
  },
  {
   "cell_type": "code",
   "execution_count": null,
   "id": "f8ff4518",
   "metadata": {},
   "outputs": [],
   "source": [
    "product = \"Queen Size Sheet Set\"\n",
    "chain.invoke(product)"
   ]
  },
  {
   "cell_type": "code",
   "execution_count": null,
   "id": "a2776006",
   "metadata": {},
   "outputs": [],
   "source": []
  },
  {
   "cell_type": "markdown",
   "id": "aa3ce9a8",
   "metadata": {},
   "source": [
    "## SimpleSequentialChain"
   ]
  },
  {
   "cell_type": "code",
   "execution_count": 10,
   "id": "7aa1dd6c",
   "metadata": {},
   "outputs": [],
   "source": [
    "from langchain.chains import SimpleSequentialChain"
   ]
  },
  {
   "cell_type": "code",
   "execution_count": 4,
   "id": "e89863c5",
   "metadata": {},
   "outputs": [
    {
     "name": "stderr",
     "output_type": "stream",
     "text": [
      "h:\\Users\\Raphael\\OneDrive\\Perso\\Technical\\AI\\Training\\GenAI\\LangChain-for-LLM-Application-Development\\venv\\lib\\site-packages\\langchain_core\\_api\\deprecation.py:119: LangChainDeprecationWarning: The class `LLMChain` was deprecated in LangChain 0.1.17 and will be removed in 0.3.0. Use RunnableSequence, e.g., `prompt | llm` instead.\n",
      "  warn_deprecated(\n"
     ]
    }
   ],
   "source": [
    "llm = ChatOpenAI(temperature=0.9)\n",
    "\n",
    "# prompt template 1\n",
    "first_prompt = ChatPromptTemplate.from_template(\n",
    "    \"What is the best name to describe \\\n",
    "    a company that makes {product}?\"\n",
    ")\n",
    "\n",
    "# Chain 1\n",
    "chain_one = LLMChain(llm=llm, prompt=first_prompt)"
   ]
  },
  {
   "cell_type": "code",
   "execution_count": 17,
   "id": "4ef81b1e",
   "metadata": {},
   "outputs": [],
   "source": [
    "\n",
    "# prompt template 2\n",
    "second_prompt = ChatPromptTemplate.from_template(\n",
    "    \"Write a 20 words description for the following \\\n",
    "    company:{company_name}\"\n",
    ")\n",
    "# chain 2\n",
    "chain_two = LLMChain(llm=llm, prompt=second_prompt)"
   ]
  },
  {
   "cell_type": "code",
   "execution_count": 18,
   "id": "937c2c61",
   "metadata": {},
   "outputs": [],
   "source": [
    "overall_simple_chain = SimpleSequentialChain(chains=[chain_one, chain_two],\n",
    "                                             verbose=True\n",
    "                                            )"
   ]
  },
  {
   "cell_type": "code",
   "execution_count": 20,
   "id": "2ebbfee7",
   "metadata": {},
   "outputs": [],
   "source": [
    "#Code to run with the newer RunnableSequence implementation for Chains\n",
    "\n",
    "from langchain.schema import StrOutputParser\n",
    "from langchain.schema.runnable import RunnablePassthrough\n",
    "\n",
    "chain_one = first_prompt | llm | StrOutputParser()\n",
    "chain_two = second_prompt | llm | StrOutputParser()\n",
    "overall_simple_chain = ({\"company_name\" : chain_one} \n",
    "         | RunnablePassthrough.assign(review=chain_two)\n",
    "        )"
   ]
  },
  {
   "cell_type": "code",
   "execution_count": null,
   "id": "7e9e8235",
   "metadata": {},
   "outputs": [],
   "source": [
    "overall_simple_chain.invoke(product)"
   ]
  },
  {
   "cell_type": "markdown",
   "id": "3636f2ca",
   "metadata": {},
   "source": [
    "## SequentialChain"
   ]
  },
  {
   "cell_type": "code",
   "execution_count": 10,
   "id": "46eea19c",
   "metadata": {},
   "outputs": [],
   "source": [
    "from langchain.chains import SequentialChain\n",
    "from langchain.schema import StrOutputParser"
   ]
  },
  {
   "cell_type": "code",
   "execution_count": 59,
   "id": "b331ee3b",
   "metadata": {},
   "outputs": [
    {
     "name": "stderr",
     "output_type": "stream",
     "text": [
      "2024-06-10 22:19:33,239 DEBUG Added a stderr logging handler to logger: urllib3\n",
      "2024-06-10 22:19:33,239 DEBUG Added a stderr logging handler to logger: urllib3\n",
      "2024-06-10 22:19:33 - DEBUG - __init__.py:add_stderr_logger:90 - Added a stderr logging handler to logger: urllib3\n"
     ]
    },
    {
     "name": "stdout",
     "output_type": "stream",
     "text": [
      "Embed API Key: ollama\n",
      "Infer API Key: ollama\n",
      "Embed API Base: http://localhost:11434/v1\n",
      "Infer API Base: http://localhost:11434/v1\n",
      "Embeddings Model: mxbai-embed-large:latest\n",
      "Inference Model: gemma:2b\n"
     ]
    }
   ],
   "source": []
  },
  {
   "cell_type": "code",
   "execution_count": null,
   "id": "2f486f81",
   "metadata": {},
   "outputs": [],
   "source": [
    "llm = ChatOpenAI(temperature=0.9)"
   ]
  },
  {
   "cell_type": "code",
   "execution_count": 128,
   "id": "e75dcc72",
   "metadata": {},
   "outputs": [
    {
     "name": "stderr",
     "output_type": "stream",
     "text": [
      "2024-06-10 23:40:26 - DEBUG - _config.py:load_ssl_context:80 - load_ssl_context verify=True cert=None trust_env=True http2=False\n",
      "2024-06-10 23:40:26 - DEBUG - _config.py:load_ssl_context_verify:146 - load_verify_locations cafile='h:\\\\Users\\\\Raphael\\\\OneDrive\\\\Perso\\\\Technical\\\\AI\\\\Training\\\\GenAI\\\\LangChain-for-LLM-Application-Development\\\\venv\\\\lib\\\\site-packages\\\\certifi\\\\cacert.pem'\n",
      "2024-06-10 23:40:26 - DEBUG - _config.py:load_ssl_context:80 - load_ssl_context verify=True cert=None trust_env=True http2=False\n",
      "2024-06-10 23:40:26 - DEBUG - _config.py:load_ssl_context_verify:146 - load_verify_locations cafile='h:\\\\Users\\\\Raphael\\\\OneDrive\\\\Perso\\\\Technical\\\\AI\\\\Training\\\\GenAI\\\\LangChain-for-LLM-Application-Development\\\\venv\\\\lib\\\\site-packages\\\\certifi\\\\cacert.pem'\n"
     ]
    }
   ],
   "source": [
    "from langchain_openai import ChatOpenAI\n",
    "infer_model_name = \"llama3:8b\"\n",
    "llm = ChatOpenAI(temperature = 0.0, base_url=inferApiBase, model=infer_model_name)"
   ]
  },
  {
   "cell_type": "code",
   "execution_count": 212,
   "id": "beb45108",
   "metadata": {},
   "outputs": [],
   "source": [
    "# prompt template 1: translate to english\n",
    "first_prompt = ChatPromptTemplate.from_template(\n",
    "    \"Translate the following review to English:\"\n",
    "    \"\\n\\n{Review}. Do not mention in the response that this is a translation.\"\n",
    ")\n",
    "# chain 1: input= Review and output= English_Review\n",
    "chain_one = LLMChain(llm=llm, prompt=first_prompt, \n",
    "                     output_key=\"English_Review\"\n",
    "                    )"
   ]
  },
  {
   "cell_type": "code",
   "execution_count": 213,
   "id": "d659523e",
   "metadata": {},
   "outputs": [],
   "source": [
    "second_prompt = ChatPromptTemplate.from_template(\n",
    "    \"Can you summarize the following review in 1 sentence:\"\n",
    "    \"\\n\\n{English_Review}\"\n",
    ")\n",
    "# chain 2: input= English_Review and output= summary\n",
    "chain_two = LLMChain(llm=llm, prompt=second_prompt, \n",
    "                     output_key=\"summary\"\n",
    "                    )"
   ]
  },
  {
   "cell_type": "code",
   "execution_count": 214,
   "id": "e302f53a",
   "metadata": {},
   "outputs": [],
   "source": [
    "# prompt template 3: translate to english\n",
    "third_prompt = ChatPromptTemplate.from_template(\n",
    "    \"What language is the following review:\\n\\n{Review}. Respond with one single word, such as Portuguese, German or French.\"\n",
    ")\n",
    "# chain 3: input= Review and output= language\n",
    "chain_three = LLMChain(llm=llm, prompt=third_prompt,\n",
    "                       output_key=\"language\"\n",
    "                      )"
   ]
  },
  {
   "cell_type": "code",
   "execution_count": 219,
   "id": "e41274dd",
   "metadata": {},
   "outputs": [],
   "source": [
    "\n",
    "# prompt template 4: follow up message\n",
    "fourth_prompt = ChatPromptTemplate.from_template(\n",
    "    \"As a customer service representative, write a follow up response to the following \"\n",
    "    \"review summary in the specified language:\"\n",
    "    \"\\n\\nReview Summary: {summary}\\n\\nLanguage: {language}\"\n",
    ")\n",
    "# chain 4: input= summary, language and output= followup_message\n",
    "chain_four = LLMChain(llm=llm, prompt=fourth_prompt,\n",
    "                      output_key=\"followup_message\"\n",
    "                     )"
   ]
  },
  {
   "cell_type": "code",
   "execution_count": 220,
   "id": "843c10a8",
   "metadata": {},
   "outputs": [],
   "source": [
    "# overall_chain: input= Review \n",
    "# and output= English_Review,summary, followup_message\n",
    "overall_chain = SequentialChain(\n",
    "    chains=[chain_one, chain_two, chain_three, chain_four],\n",
    "    input_variables=[\"Review\"],\n",
    "    output_variables=[\"English_Review\", \"summary\",\"followup_message\"],\n",
    "    verbose=True\n",
    ")"
   ]
  },
  {
   "cell_type": "code",
   "execution_count": 222,
   "id": "b43a54f3",
   "metadata": {},
   "outputs": [
    {
     "name": "stderr",
     "output_type": "stream",
     "text": [
      "2024-06-11 01:10:11 - DEBUG - _base_client.py:_build_request:446 - Request options: {'method': 'post', 'url': '/chat/completions', 'files': None, 'json_data': {'messages': [{'content': \"Translate the following review to English:\\n\\nJe trouve le goût médiocre. La mousse ne tient pas, c'est bizarre. J'achète les mêmes dans le commerce et le goût est bien meilleur...\\r\\nVieux lot ou contrefaçon !?. Do not mention in the response that this is a translation.\", 'role': 'user'}], 'model': 'llama3:8b', 'n': 1, 'stream': False, 'temperature': 0.0}}\n",
      "2024-06-11 01:10:11 - DEBUG - _base_client.py:_request:949 - Sending HTTP Request: POST http://localhost:11434/v1/chat/completions\n",
      "2024-06-11 01:10:11 - DEBUG - _trace.py:trace:45 - close.started\n",
      "2024-06-11 01:10:11 - DEBUG - _trace.py:trace:45 - close.complete\n",
      "2024-06-11 01:10:11 - DEBUG - _trace.py:trace:45 - connect_tcp.started host='localhost' port=11434 local_address=None timeout=None socket_options=None\n"
     ]
    },
    {
     "name": "stdout",
     "output_type": "stream",
     "text": [
      "\n",
      "\n",
      "\u001b[1m> Entering new SequentialChain chain...\u001b[0m\n"
     ]
    },
    {
     "name": "stderr",
     "output_type": "stream",
     "text": [
      "2024-06-11 01:10:13 - DEBUG - _trace.py:trace:45 - connect_tcp.complete return_value=<httpcore._backends.sync.SyncStream object at 0x00000293F15E9EA0>\n",
      "2024-06-11 01:10:13 - DEBUG - _trace.py:trace:45 - send_request_headers.started request=<Request [b'POST']>\n",
      "2024-06-11 01:10:13 - DEBUG - _trace.py:trace:45 - send_request_headers.complete\n",
      "2024-06-11 01:10:13 - DEBUG - _trace.py:trace:45 - send_request_body.started request=<Request [b'POST']>\n",
      "2024-06-11 01:10:13 - DEBUG - _trace.py:trace:45 - send_request_body.complete\n",
      "2024-06-11 01:10:13 - DEBUG - _trace.py:trace:45 - receive_response_headers.started request=<Request [b'POST']>\n",
      "2024-06-11 01:10:19 - DEBUG - _trace.py:trace:45 - receive_response_headers.complete return_value=(b'HTTP/1.1', 200, b'OK', [(b'Content-Type', b'application/json'), (b'Date', b'Mon, 10 Jun 2024 23:10:19 GMT'), (b'Content-Length', b'444')])\n",
      "2024-06-11 01:10:19 - INFO - _client.py:_send_single_request:1026 - HTTP Request: POST http://localhost:11434/v1/chat/completions \"HTTP/1.1 200 OK\"\n",
      "2024-06-11 01:10:19 - DEBUG - _trace.py:trace:45 - receive_response_body.started request=<Request [b'POST']>\n",
      "2024-06-11 01:10:19 - DEBUG - _trace.py:trace:45 - receive_response_body.complete\n",
      "2024-06-11 01:10:19 - DEBUG - _trace.py:trace:45 - response_closed.started\n",
      "2024-06-11 01:10:19 - DEBUG - _trace.py:trace:45 - response_closed.complete\n",
      "2024-06-11 01:10:19 - DEBUG - _base_client.py:_request:988 - HTTP Response: POST http://localhost:11434/v1/chat/completions \"200 OK\" Headers({'content-type': 'application/json', 'date': 'Mon, 10 Jun 2024 23:10:19 GMT', 'content-length': '444'})\n",
      "2024-06-11 01:10:19 - DEBUG - _base_client.py:_request:996 - request_id: None\n",
      "2024-06-11 01:10:19 - DEBUG - _base_client.py:_build_request:446 - Request options: {'method': 'post', 'url': '/chat/completions', 'files': None, 'json_data': {'messages': [{'content': \"Can you summarize the following review in 1 sentence:\\n\\nI find the taste mediocre. The mousse doesn't hold up, it's weird. I buy the same ones in stores and the taste is much better...\\n\\nOld batch or counterfeit!?!\", 'role': 'user'}], 'model': 'llama3:8b', 'n': 1, 'stream': False, 'temperature': 0.0}}\n",
      "2024-06-11 01:10:19 - DEBUG - _base_client.py:_request:949 - Sending HTTP Request: POST http://localhost:11434/v1/chat/completions\n",
      "2024-06-11 01:10:19 - DEBUG - _trace.py:trace:45 - send_request_headers.started request=<Request [b'POST']>\n",
      "2024-06-11 01:10:19 - DEBUG - _trace.py:trace:45 - send_request_headers.complete\n",
      "2024-06-11 01:10:19 - DEBUG - _trace.py:trace:45 - send_request_body.started request=<Request [b'POST']>\n",
      "2024-06-11 01:10:19 - DEBUG - _trace.py:trace:45 - send_request_body.complete\n",
      "2024-06-11 01:10:19 - DEBUG - _trace.py:trace:45 - receive_response_headers.started request=<Request [b'POST']>\n",
      "2024-06-11 01:10:24 - DEBUG - _trace.py:trace:45 - receive_response_headers.complete return_value=(b'HTTP/1.1', 200, b'OK', [(b'Content-Type', b'application/json'), (b'Date', b'Mon, 10 Jun 2024 23:10:24 GMT'), (b'Content-Length', b'509')])\n",
      "2024-06-11 01:10:24 - INFO - _client.py:_send_single_request:1026 - HTTP Request: POST http://localhost:11434/v1/chat/completions \"HTTP/1.1 200 OK\"\n",
      "2024-06-11 01:10:24 - DEBUG - _trace.py:trace:45 - receive_response_body.started request=<Request [b'POST']>\n",
      "2024-06-11 01:10:24 - DEBUG - _trace.py:trace:45 - receive_response_body.complete\n",
      "2024-06-11 01:10:24 - DEBUG - _trace.py:trace:45 - response_closed.started\n",
      "2024-06-11 01:10:24 - DEBUG - _trace.py:trace:45 - response_closed.complete\n",
      "2024-06-11 01:10:24 - DEBUG - _base_client.py:_request:988 - HTTP Response: POST http://localhost:11434/v1/chat/completions \"200 OK\" Headers({'content-type': 'application/json', 'date': 'Mon, 10 Jun 2024 23:10:24 GMT', 'content-length': '509'})\n",
      "2024-06-11 01:10:24 - DEBUG - _base_client.py:_request:996 - request_id: None\n",
      "2024-06-11 01:10:24 - DEBUG - _base_client.py:_build_request:446 - Request options: {'method': 'post', 'url': '/chat/completions', 'files': None, 'json_data': {'messages': [{'content': \"What language is the following review:\\n\\nJe trouve le goût médiocre. La mousse ne tient pas, c'est bizarre. J'achète les mêmes dans le commerce et le goût est bien meilleur...\\r\\nVieux lot ou contrefaçon !?. Respond with one single word, such as Portuguese, German or French.\", 'role': 'user'}], 'model': 'llama3:8b', 'n': 1, 'stream': False, 'temperature': 0.0}}\n",
      "2024-06-11 01:10:24 - DEBUG - _base_client.py:_request:949 - Sending HTTP Request: POST http://localhost:11434/v1/chat/completions\n",
      "2024-06-11 01:10:24 - DEBUG - _trace.py:trace:45 - send_request_headers.started request=<Request [b'POST']>\n",
      "2024-06-11 01:10:24 - DEBUG - _trace.py:trace:45 - send_request_headers.complete\n",
      "2024-06-11 01:10:24 - DEBUG - _trace.py:trace:45 - send_request_body.started request=<Request [b'POST']>\n",
      "2024-06-11 01:10:24 - DEBUG - _trace.py:trace:45 - send_request_body.complete\n",
      "2024-06-11 01:10:24 - DEBUG - _trace.py:trace:45 - receive_response_headers.started request=<Request [b'POST']>\n",
      "2024-06-11 01:10:25 - DEBUG - _trace.py:trace:45 - receive_response_headers.complete return_value=(b'HTTP/1.1', 200, b'OK', [(b'Content-Type', b'application/json'), (b'Date', b'Mon, 10 Jun 2024 23:10:25 GMT'), (b'Content-Length', b'289')])\n",
      "2024-06-11 01:10:25 - INFO - _client.py:_send_single_request:1026 - HTTP Request: POST http://localhost:11434/v1/chat/completions \"HTTP/1.1 200 OK\"\n",
      "2024-06-11 01:10:25 - DEBUG - _trace.py:trace:45 - receive_response_body.started request=<Request [b'POST']>\n",
      "2024-06-11 01:10:25 - DEBUG - _trace.py:trace:45 - receive_response_body.complete\n",
      "2024-06-11 01:10:25 - DEBUG - _trace.py:trace:45 - response_closed.started\n",
      "2024-06-11 01:10:25 - DEBUG - _trace.py:trace:45 - response_closed.complete\n",
      "2024-06-11 01:10:25 - DEBUG - _base_client.py:_request:988 - HTTP Response: POST http://localhost:11434/v1/chat/completions \"200 OK\" Headers({'content-type': 'application/json', 'date': 'Mon, 10 Jun 2024 23:10:25 GMT', 'content-length': '289'})\n",
      "2024-06-11 01:10:25 - DEBUG - _base_client.py:_request:996 - request_id: None\n",
      "2024-06-11 01:10:25 - DEBUG - _base_client.py:_build_request:446 - Request options: {'method': 'post', 'url': '/chat/completions', 'files': None, 'json_data': {'messages': [{'content': \"As a customer service representative, write a follow up response to the following review summary in the specified language:\\n\\nReview Summary: The reviewer finds the taste of their purchased product to be mediocre and inferior to what they've experienced with the same product from stores, leading them to speculate that it might be an old batch or even a counterfeit.\\n\\nLanguage: French\", 'role': 'user'}], 'model': 'llama3:8b', 'n': 1, 'stream': False, 'temperature': 0.0}}\n",
      "2024-06-11 01:10:25 - DEBUG - _base_client.py:_request:949 - Sending HTTP Request: POST http://localhost:11434/v1/chat/completions\n",
      "2024-06-11 01:10:25 - DEBUG - _trace.py:trace:45 - send_request_headers.started request=<Request [b'POST']>\n",
      "2024-06-11 01:10:25 - DEBUG - _trace.py:trace:45 - send_request_headers.complete\n",
      "2024-06-11 01:10:25 - DEBUG - _trace.py:trace:45 - send_request_body.started request=<Request [b'POST']>\n",
      "2024-06-11 01:10:25 - DEBUG - _trace.py:trace:45 - send_request_body.complete\n",
      "2024-06-11 01:10:25 - DEBUG - _trace.py:trace:45 - receive_response_headers.started request=<Request [b'POST']>\n",
      "2024-06-11 01:11:18 - DEBUG - _trace.py:trace:45 - receive_response_headers.complete return_value=(b'HTTP/1.1', 200, b'OK', [(b'Content-Type', b'application/json'), (b'Date', b'Mon, 10 Jun 2024 23:11:18 GMT'), (b'Transfer-Encoding', b'chunked')])\n",
      "2024-06-11 01:11:18 - INFO - _client.py:_send_single_request:1026 - HTTP Request: POST http://localhost:11434/v1/chat/completions \"HTTP/1.1 200 OK\"\n",
      "2024-06-11 01:11:18 - DEBUG - _trace.py:trace:45 - receive_response_body.started request=<Request [b'POST']>\n",
      "2024-06-11 01:11:18 - DEBUG - _trace.py:trace:45 - receive_response_body.complete\n",
      "2024-06-11 01:11:18 - DEBUG - _trace.py:trace:45 - response_closed.started\n",
      "2024-06-11 01:11:18 - DEBUG - _trace.py:trace:45 - response_closed.complete\n",
      "2024-06-11 01:11:18 - DEBUG - _base_client.py:_request:988 - HTTP Response: POST http://localhost:11434/v1/chat/completions \"200 OK\" Headers({'content-type': 'application/json', 'date': 'Mon, 10 Jun 2024 23:11:18 GMT', 'transfer-encoding': 'chunked'})\n",
      "2024-06-11 01:11:18 - DEBUG - _base_client.py:_request:996 - request_id: None\n"
     ]
    },
    {
     "name": "stdout",
     "output_type": "stream",
     "text": [
      "\n",
      "\u001b[1m> Finished chain.\u001b[0m\n"
     ]
    },
    {
     "data": {
      "text/plain": [
       "{'Review': \"Je trouve le goût médiocre. La mousse ne tient pas, c'est bizarre. J'achète les mêmes dans le commerce et le goût est bien meilleur...\\r\\nVieux lot ou contrefaçon !?\",\n",
       " 'English_Review': \"I find the taste mediocre. The mousse doesn't hold up, it's weird. I buy the same ones in stores and the taste is much better...\\n\\nOld batch or counterfeit!?!\",\n",
       " 'summary': \"The reviewer finds the taste of their purchased product to be mediocre and inferior to what they've experienced with the same product from stores, leading them to speculate that it might be an old batch or even a counterfeit.\",\n",
       " 'followup_message': \"Bonjour,\\n\\nJe suis désolé d'apprendre que le goût de notre produit ne vous a pas satisfait. Nous comprenons que la qualité du goût est essentielle pour nous et nos clients, et nous sommes prêts à prendre des mesures pour résoudre ce problème.\\n\\nPouvez-vous me donner plus de détails sur votre expérience avec notre produit ? Quel est le nom du produit en question et pouvez-vous me dire si vous avez déjà consommé d'autres produits de la même marque achetés dans les magasins ?\\n\\nNous sommes également prêts à échanger ou à rembourser votre achat si nous déterminons que le problème est lié à une erreur de notre part. Votre satisfaction est notre priorité, et nous allons faire tout ce qui est en notre pouvoir pour vous satisfaire.\\n\\nMerci de prendre le temps de partager vos commentaires avec nous. Nous sommes impatients de résoudre ce problème et de vous offrir un service client de qualité.\\n\\nCordialement,\\n[Votre nom]\\n\\nTranslation:\\n\\nHello,\\n\\nI'm sorry to hear that the taste of our product didn't meet your expectations. We understand that the quality of taste is essential for us and our customers, and we're ready to take measures to resolve this issue.\\n\\nCan you give me more details about your experience with our product? What's the name of the product in question, and have you already consumed other products from the same brand bought at stores?\\n\\nWe're also willing to exchange or refund your purchase if we determine that the problem is related to an error on our part. Your satisfaction is our priority, and we'll do everything in our power to make it right.\\n\\nThank you for taking the time to share your comments with us. We're eager to resolve this issue and offer you a high-quality customer service.\"}"
      ]
     },
     "execution_count": 222,
     "metadata": {},
     "output_type": "execute_result"
    }
   ],
   "source": [
    "langchain.debug = False\n",
    "review = df.Review[5]\n",
    "overall_chain.invoke(review)"
   ]
  },
  {
   "cell_type": "code",
   "execution_count": 100,
   "id": "5213b14b",
   "metadata": {},
   "outputs": [
    {
     "name": "stderr",
     "output_type": "stream",
     "text": [
      "2024-06-10 22:40:40 - DEBUG - _base_client.py:_build_request:446 - Request options: {'method': 'post', 'url': '/chat/completions', 'files': None, 'json_data': {'messages': [{'content': \"Translate the following review to english:\\n\\nJe trouve le goût médiocre. La mousse ne tient pas, c'est bizarre. J'achète les mêmes dans le commerce et le goût est bien meilleur...\\r\\nVieux lot ou contrefaçon !?\", 'role': 'user'}], 'model': 'gpt-3.5-turbo', 'n': 1, 'stream': False, 'temperature': 0.9}}\n",
      "2024-06-10 22:40:40 - DEBUG - _base_client.py:_request:949 - Sending HTTP Request: POST https://api.openai.com/v1/chat/completions\n",
      "2024-06-10 22:40:40 - DEBUG - _trace.py:trace:45 - connect_tcp.started host='api.openai.com' port=443 local_address=None timeout=None socket_options=None\n",
      "2024-06-10 22:40:40 - DEBUG - _trace.py:trace:45 - connect_tcp.complete return_value=<httpcore._backends.sync.SyncStream object at 0x00000293EF4BE6E0>\n",
      "2024-06-10 22:40:40 - DEBUG - _trace.py:trace:45 - start_tls.started ssl_context=<ssl.SSLContext object at 0x00000293F0B70BC0> server_hostname='api.openai.com' timeout=None\n",
      "2024-06-10 22:40:40 - DEBUG - _trace.py:trace:45 - start_tls.complete return_value=<httpcore._backends.sync.SyncStream object at 0x00000293EF4BC220>\n",
      "2024-06-10 22:40:40 - DEBUG - _trace.py:trace:45 - send_request_headers.started request=<Request [b'POST']>\n",
      "2024-06-10 22:40:40 - DEBUG - _trace.py:trace:45 - send_request_headers.complete\n",
      "2024-06-10 22:40:40 - DEBUG - _trace.py:trace:45 - send_request_body.started request=<Request [b'POST']>\n",
      "2024-06-10 22:40:40 - DEBUG - _trace.py:trace:45 - send_request_body.complete\n",
      "2024-06-10 22:40:40 - DEBUG - _trace.py:trace:45 - receive_response_headers.started request=<Request [b'POST']>\n"
     ]
    },
    {
     "name": "stdout",
     "output_type": "stream",
     "text": [
      "\u001b[32;1m\u001b[1;3m[chain/start]\u001b[0m \u001b[1m[chain:SequentialChain] Entering Chain run with input:\n",
      "\u001b[0m{\n",
      "  \"Review\": \"Je trouve le goût médiocre. La mousse ne tient pas, c'est bizarre. J'achète les mêmes dans le commerce et le goût est bien meilleur...\\r\\nVieux lot ou contrefaçon !?\"\n",
      "}\n",
      "\u001b[32;1m\u001b[1;3m[chain/start]\u001b[0m \u001b[1m[chain:SequentialChain > chain:LLMChain] Entering Chain run with input:\n",
      "\u001b[0m{\n",
      "  \"Review\": \"Je trouve le goût médiocre. La mousse ne tient pas, c'est bizarre. J'achète les mêmes dans le commerce et le goût est bien meilleur...\\r\\nVieux lot ou contrefaçon !?\"\n",
      "}\n",
      "\u001b[32;1m\u001b[1;3m[llm/start]\u001b[0m \u001b[1m[chain:SequentialChain > chain:LLMChain > llm:ChatOpenAI] Entering LLM run with input:\n",
      "\u001b[0m{\n",
      "  \"prompts\": [\n",
      "    \"Human: Translate the following review to english:\\n\\nJe trouve le goût médiocre. La mousse ne tient pas, c'est bizarre. J'achète les mêmes dans le commerce et le goût est bien meilleur...\\r\\nVieux lot ou contrefaçon !?\"\n",
      "  ]\n",
      "}\n"
     ]
    },
    {
     "name": "stderr",
     "output_type": "stream",
     "text": [
      "2024-06-10 22:40:41 - DEBUG - _trace.py:trace:45 - receive_response_headers.complete return_value=(b'HTTP/1.1', 200, b'OK', [(b'Date', b'Mon, 10 Jun 2024 20:40:41 GMT'), (b'Content-Type', b'application/json'), (b'Transfer-Encoding', b'chunked'), (b'Connection', b'keep-alive'), (b'openai-organization', b'user-vycexojfpphtlaesrwlkvocv'), (b'openai-processing-ms', b'738'), (b'openai-version', b'2020-10-01'), (b'strict-transport-security', b'max-age=15724800; includeSubDomains'), (b'x-ratelimit-limit-requests', b'10000'), (b'x-ratelimit-limit-tokens', b'60000'), (b'x-ratelimit-remaining-requests', b'9999'), (b'x-ratelimit-remaining-tokens', b'59929'), (b'x-ratelimit-reset-requests', b'8.64s'), (b'x-ratelimit-reset-tokens', b'71ms'), (b'x-request-id', b'req_729fbbe71d06b24b7760256dbb17f7b2'), (b'CF-Cache-Status', b'DYNAMIC'), (b'Set-Cookie', b'__cf_bm=2FY63cnHrQJw23x6rp88EDb209kfbgf1nk.VNzAmTB4-1718052041-1.0.1.1-sVWm._5OLcFDmzsFA.vWRe2me5SGPBEETkZLryf9I875hHv2UDXtAi9mU6cjUl6rvVOFhPSadmsc5WSvcKWmdg; path=/; expires=Mon, 10-Jun-24 21:10:41 GMT; domain=.api.openai.com; HttpOnly; Secure; SameSite=None'), (b'Set-Cookie', b'_cfuvid=Wq97QCAKZ14JKOgJubq6vsJcrn5kc0yeKfsBFEWKCBY-1718052041404-0.0.1.1-604800000; path=/; domain=.api.openai.com; HttpOnly; Secure; SameSite=None'), (b'Server', b'cloudflare'), (b'CF-RAY', b'891c2d851cbd01ce-CDG'), (b'Content-Encoding', b'gzip'), (b'alt-svc', b'h3=\":443\"; ma=86400')])\n",
      "2024-06-10 22:40:41 - INFO - _client.py:_send_single_request:1026 - HTTP Request: POST https://api.openai.com/v1/chat/completions \"HTTP/1.1 200 OK\"\n",
      "2024-06-10 22:40:41 - DEBUG - _trace.py:trace:45 - receive_response_body.started request=<Request [b'POST']>\n",
      "2024-06-10 22:40:41 - DEBUG - _trace.py:trace:45 - receive_response_body.complete\n",
      "2024-06-10 22:40:41 - DEBUG - _trace.py:trace:45 - response_closed.started\n",
      "2024-06-10 22:40:41 - DEBUG - _trace.py:trace:45 - response_closed.complete\n",
      "2024-06-10 22:40:41 - DEBUG - _base_client.py:_request:988 - HTTP Response: POST https://api.openai.com/v1/chat/completions \"200 OK\" Headers([('date', 'Mon, 10 Jun 2024 20:40:41 GMT'), ('content-type', 'application/json'), ('transfer-encoding', 'chunked'), ('connection', 'keep-alive'), ('openai-organization', 'user-vycexojfpphtlaesrwlkvocv'), ('openai-processing-ms', '738'), ('openai-version', '2020-10-01'), ('strict-transport-security', 'max-age=15724800; includeSubDomains'), ('x-ratelimit-limit-requests', '10000'), ('x-ratelimit-limit-tokens', '60000'), ('x-ratelimit-remaining-requests', '9999'), ('x-ratelimit-remaining-tokens', '59929'), ('x-ratelimit-reset-requests', '8.64s'), ('x-ratelimit-reset-tokens', '71ms'), ('x-request-id', 'req_729fbbe71d06b24b7760256dbb17f7b2'), ('cf-cache-status', 'DYNAMIC'), ('set-cookie', '__cf_bm=2FY63cnHrQJw23x6rp88EDb209kfbgf1nk.VNzAmTB4-1718052041-1.0.1.1-sVWm._5OLcFDmzsFA.vWRe2me5SGPBEETkZLryf9I875hHv2UDXtAi9mU6cjUl6rvVOFhPSadmsc5WSvcKWmdg; path=/; expires=Mon, 10-Jun-24 21:10:41 GMT; domain=.api.openai.com; HttpOnly; Secure; SameSite=None'), ('set-cookie', '_cfuvid=Wq97QCAKZ14JKOgJubq6vsJcrn5kc0yeKfsBFEWKCBY-1718052041404-0.0.1.1-604800000; path=/; domain=.api.openai.com; HttpOnly; Secure; SameSite=None'), ('server', 'cloudflare'), ('cf-ray', '891c2d851cbd01ce-CDG'), ('content-encoding', 'gzip'), ('alt-svc', 'h3=\":443\"; ma=86400')])\n",
      "2024-06-10 22:40:41 - DEBUG - _base_client.py:_request:996 - request_id: req_729fbbe71d06b24b7760256dbb17f7b2\n",
      "2024-06-10 22:40:41 - DEBUG - _base_client.py:_build_request:446 - Request options: {'method': 'post', 'url': '/chat/completions', 'files': None, 'json_data': {'messages': [{'content': \"Can you summarize the following review in 1 sentence:\\n\\nI find the taste mediocre. The foam does not hold, it's weird. I buy the same ones in stores and the taste is much better... Old batch or counterfeit!?\", 'role': 'user'}], 'model': 'gpt-3.5-turbo', 'n': 1, 'stream': False, 'temperature': 0.9}}\n",
      "2024-06-10 22:40:41 - DEBUG - _base_client.py:_request:949 - Sending HTTP Request: POST https://api.openai.com/v1/chat/completions\n",
      "2024-06-10 22:40:41 - DEBUG - _trace.py:trace:45 - send_request_headers.started request=<Request [b'POST']>\n",
      "2024-06-10 22:40:41 - DEBUG - _trace.py:trace:45 - send_request_headers.complete\n",
      "2024-06-10 22:40:41 - DEBUG - _trace.py:trace:45 - send_request_body.started request=<Request [b'POST']>\n",
      "2024-06-10 22:40:41 - DEBUG - _trace.py:trace:45 - send_request_body.complete\n",
      "2024-06-10 22:40:41 - DEBUG - _trace.py:trace:45 - receive_response_headers.started request=<Request [b'POST']>\n"
     ]
    },
    {
     "name": "stdout",
     "output_type": "stream",
     "text": [
      "\u001b[36;1m\u001b[1;3m[llm/end]\u001b[0m \u001b[1m[chain:SequentialChain > chain:LLMChain > llm:ChatOpenAI] [968ms] Exiting LLM run with output:\n",
      "\u001b[0m{\n",
      "  \"generations\": [\n",
      "    [\n",
      "      {\n",
      "        \"text\": \"I find the taste mediocre. The foam does not hold, it's weird. I buy the same ones in stores and the taste is much better... Old batch or counterfeit!?\",\n",
      "        \"generation_info\": {\n",
      "          \"finish_reason\": \"stop\",\n",
      "          \"logprobs\": null\n",
      "        },\n",
      "        \"type\": \"ChatGeneration\",\n",
      "        \"message\": {\n",
      "          \"lc\": 1,\n",
      "          \"type\": \"constructor\",\n",
      "          \"id\": [\n",
      "            \"langchain\",\n",
      "            \"schema\",\n",
      "            \"messages\",\n",
      "            \"AIMessage\"\n",
      "          ],\n",
      "          \"kwargs\": {\n",
      "            \"content\": \"I find the taste mediocre. The foam does not hold, it's weird. I buy the same ones in stores and the taste is much better... Old batch or counterfeit!?\",\n",
      "            \"response_metadata\": {\n",
      "              \"token_usage\": {\n",
      "                \"completion_tokens\": 35,\n",
      "                \"prompt_tokens\": 64,\n",
      "                \"total_tokens\": 99\n",
      "              },\n",
      "              \"model_name\": \"gpt-3.5-turbo\",\n",
      "              \"system_fingerprint\": null,\n",
      "              \"finish_reason\": \"stop\",\n",
      "              \"logprobs\": null\n",
      "            },\n",
      "            \"type\": \"ai\",\n",
      "            \"id\": \"run-9d2ab144-ea81-4e4b-a9db-76e2b6777b64-0\",\n",
      "            \"usage_metadata\": {\n",
      "              \"input_tokens\": 64,\n",
      "              \"output_tokens\": 35,\n",
      "              \"total_tokens\": 99\n",
      "            },\n",
      "            \"tool_calls\": [],\n",
      "            \"invalid_tool_calls\": []\n",
      "          }\n",
      "        }\n",
      "      }\n",
      "    ]\n",
      "  ],\n",
      "  \"llm_output\": {\n",
      "    \"token_usage\": {\n",
      "      \"completion_tokens\": 35,\n",
      "      \"prompt_tokens\": 64,\n",
      "      \"total_tokens\": 99\n",
      "    },\n",
      "    \"model_name\": \"gpt-3.5-turbo\",\n",
      "    \"system_fingerprint\": null\n",
      "  },\n",
      "  \"run\": null\n",
      "}\n",
      "\u001b[36;1m\u001b[1;3m[chain/end]\u001b[0m \u001b[1m[chain:SequentialChain > chain:LLMChain] [969ms] Exiting Chain run with output:\n",
      "\u001b[0m{\n",
      "  \"English_Review\": \"I find the taste mediocre. The foam does not hold, it's weird. I buy the same ones in stores and the taste is much better... Old batch or counterfeit!?\"\n",
      "}\n",
      "\u001b[32;1m\u001b[1;3m[chain/start]\u001b[0m \u001b[1m[chain:SequentialChain > chain:LLMChain] Entering Chain run with input:\n",
      "\u001b[0m{\n",
      "  \"Review\": \"Je trouve le goût médiocre. La mousse ne tient pas, c'est bizarre. J'achète les mêmes dans le commerce et le goût est bien meilleur...\\r\\nVieux lot ou contrefaçon !?\",\n",
      "  \"English_Review\": \"I find the taste mediocre. The foam does not hold, it's weird. I buy the same ones in stores and the taste is much better... Old batch or counterfeit!?\"\n",
      "}\n",
      "\u001b[32;1m\u001b[1;3m[llm/start]\u001b[0m \u001b[1m[chain:SequentialChain > chain:LLMChain > llm:ChatOpenAI] Entering LLM run with input:\n",
      "\u001b[0m{\n",
      "  \"prompts\": [\n",
      "    \"Human: Can you summarize the following review in 1 sentence:\\n\\nI find the taste mediocre. The foam does not hold, it's weird. I buy the same ones in stores and the taste is much better... Old batch or counterfeit!?\"\n",
      "  ]\n",
      "}\n"
     ]
    },
    {
     "name": "stderr",
     "output_type": "stream",
     "text": [
      "2024-06-10 22:40:41 - DEBUG - _trace.py:trace:45 - receive_response_headers.complete return_value=(b'HTTP/1.1', 200, b'OK', [(b'Date', b'Mon, 10 Jun 2024 20:40:42 GMT'), (b'Content-Type', b'application/json'), (b'Transfer-Encoding', b'chunked'), (b'Connection', b'keep-alive'), (b'openai-organization', b'user-vycexojfpphtlaesrwlkvocv'), (b'openai-processing-ms', b'388'), (b'openai-version', b'2020-10-01'), (b'strict-transport-security', b'max-age=15724800; includeSubDomains'), (b'x-ratelimit-limit-requests', b'10000'), (b'x-ratelimit-limit-tokens', b'60000'), (b'x-ratelimit-remaining-requests', b'9998'), (b'x-ratelimit-remaining-tokens', b'59931'), (b'x-ratelimit-reset-requests', b'16.359s'), (b'x-ratelimit-reset-tokens', b'69ms'), (b'x-request-id', b'req_229d5438c6499617740f4b430276155f'), (b'CF-Cache-Status', b'DYNAMIC'), (b'Server', b'cloudflare'), (b'CF-RAY', b'891c2d8aedbd01ce-CDG'), (b'Content-Encoding', b'gzip'), (b'alt-svc', b'h3=\":443\"; ma=86400')])\n",
      "2024-06-10 22:40:41 - INFO - _client.py:_send_single_request:1026 - HTTP Request: POST https://api.openai.com/v1/chat/completions \"HTTP/1.1 200 OK\"\n",
      "2024-06-10 22:40:41 - DEBUG - _trace.py:trace:45 - receive_response_body.started request=<Request [b'POST']>\n",
      "2024-06-10 22:40:41 - DEBUG - _trace.py:trace:45 - receive_response_body.complete\n",
      "2024-06-10 22:40:41 - DEBUG - _trace.py:trace:45 - response_closed.started\n",
      "2024-06-10 22:40:41 - DEBUG - _trace.py:trace:45 - response_closed.complete\n",
      "2024-06-10 22:40:41 - DEBUG - _base_client.py:_request:988 - HTTP Response: POST https://api.openai.com/v1/chat/completions \"200 OK\" Headers({'date': 'Mon, 10 Jun 2024 20:40:42 GMT', 'content-type': 'application/json', 'transfer-encoding': 'chunked', 'connection': 'keep-alive', 'openai-organization': 'user-vycexojfpphtlaesrwlkvocv', 'openai-processing-ms': '388', 'openai-version': '2020-10-01', 'strict-transport-security': 'max-age=15724800; includeSubDomains', 'x-ratelimit-limit-requests': '10000', 'x-ratelimit-limit-tokens': '60000', 'x-ratelimit-remaining-requests': '9998', 'x-ratelimit-remaining-tokens': '59931', 'x-ratelimit-reset-requests': '16.359s', 'x-ratelimit-reset-tokens': '69ms', 'x-request-id': 'req_229d5438c6499617740f4b430276155f', 'cf-cache-status': 'DYNAMIC', 'server': 'cloudflare', 'cf-ray': '891c2d8aedbd01ce-CDG', 'content-encoding': 'gzip', 'alt-svc': 'h3=\":443\"; ma=86400'})\n",
      "2024-06-10 22:40:41 - DEBUG - _base_client.py:_request:996 - request_id: req_229d5438c6499617740f4b430276155f\n",
      "2024-06-10 22:40:41 - DEBUG - _base_client.py:_build_request:446 - Request options: {'method': 'post', 'url': '/chat/completions', 'files': None, 'json_data': {'messages': [{'content': \"What language is the following review:\\n\\nJe trouve le goût médiocre. La mousse ne tient pas, c'est bizarre. J'achète les mêmes dans le commerce et le goût est bien meilleur...\\r\\nVieux lot ou contrefaçon !?. Respond with one single word, such as Portuguese, German or French.\", 'role': 'user'}], 'model': 'gpt-3.5-turbo', 'n': 1, 'stream': False, 'temperature': 0.9}}\n",
      "2024-06-10 22:40:41 - DEBUG - _base_client.py:_request:949 - Sending HTTP Request: POST https://api.openai.com/v1/chat/completions\n",
      "2024-06-10 22:40:41 - DEBUG - _trace.py:trace:45 - send_request_headers.started request=<Request [b'POST']>\n",
      "2024-06-10 22:40:41 - DEBUG - _trace.py:trace:45 - send_request_headers.complete\n",
      "2024-06-10 22:40:41 - DEBUG - _trace.py:trace:45 - send_request_body.started request=<Request [b'POST']>\n",
      "2024-06-10 22:40:41 - DEBUG - _trace.py:trace:45 - send_request_body.complete\n",
      "2024-06-10 22:40:41 - DEBUG - _trace.py:trace:45 - receive_response_headers.started request=<Request [b'POST']>\n"
     ]
    },
    {
     "name": "stdout",
     "output_type": "stream",
     "text": [
      "\u001b[36;1m\u001b[1;3m[llm/end]\u001b[0m \u001b[1m[chain:SequentialChain > chain:LLMChain > llm:ChatOpenAI] [672ms] Exiting LLM run with output:\n",
      "\u001b[0m{\n",
      "  \"generations\": [\n",
      "    [\n",
      "      {\n",
      "        \"text\": \"The reviewer is disappointed by the mediocre taste and lack of foam retention in the product, questioning whether it is an old batch or counterfeit.\",\n",
      "        \"generation_info\": {\n",
      "          \"finish_reason\": \"stop\",\n",
      "          \"logprobs\": null\n",
      "        },\n",
      "        \"type\": \"ChatGeneration\",\n",
      "        \"message\": {\n",
      "          \"lc\": 1,\n",
      "          \"type\": \"constructor\",\n",
      "          \"id\": [\n",
      "            \"langchain\",\n",
      "            \"schema\",\n",
      "            \"messages\",\n",
      "            \"AIMessage\"\n",
      "          ],\n",
      "          \"kwargs\": {\n",
      "            \"content\": \"The reviewer is disappointed by the mediocre taste and lack of foam retention in the product, questioning whether it is an old batch or counterfeit.\",\n",
      "            \"response_metadata\": {\n",
      "              \"token_usage\": {\n",
      "                \"completion_tokens\": 27,\n",
      "                \"prompt_tokens\": 53,\n",
      "                \"total_tokens\": 80\n",
      "              },\n",
      "              \"model_name\": \"gpt-3.5-turbo\",\n",
      "              \"system_fingerprint\": null,\n",
      "              \"finish_reason\": \"stop\",\n",
      "              \"logprobs\": null\n",
      "            },\n",
      "            \"type\": \"ai\",\n",
      "            \"id\": \"run-a0092973-fd63-4df4-a636-90099001a434-0\",\n",
      "            \"usage_metadata\": {\n",
      "              \"input_tokens\": 53,\n",
      "              \"output_tokens\": 27,\n",
      "              \"total_tokens\": 80\n",
      "            },\n",
      "            \"tool_calls\": [],\n",
      "            \"invalid_tool_calls\": []\n",
      "          }\n",
      "        }\n",
      "      }\n",
      "    ]\n",
      "  ],\n",
      "  \"llm_output\": {\n",
      "    \"token_usage\": {\n",
      "      \"completion_tokens\": 27,\n",
      "      \"prompt_tokens\": 53,\n",
      "      \"total_tokens\": 80\n",
      "    },\n",
      "    \"model_name\": \"gpt-3.5-turbo\",\n",
      "    \"system_fingerprint\": null\n",
      "  },\n",
      "  \"run\": null\n",
      "}\n",
      "\u001b[36;1m\u001b[1;3m[chain/end]\u001b[0m \u001b[1m[chain:SequentialChain > chain:LLMChain] [672ms] Exiting Chain run with output:\n",
      "\u001b[0m{\n",
      "  \"summary\": \"The reviewer is disappointed by the mediocre taste and lack of foam retention in the product, questioning whether it is an old batch or counterfeit.\"\n",
      "}\n",
      "\u001b[32;1m\u001b[1;3m[chain/start]\u001b[0m \u001b[1m[chain:SequentialChain > chain:LLMChain] Entering Chain run with input:\n",
      "\u001b[0m{\n",
      "  \"Review\": \"Je trouve le goût médiocre. La mousse ne tient pas, c'est bizarre. J'achète les mêmes dans le commerce et le goût est bien meilleur...\\r\\nVieux lot ou contrefaçon !?\",\n",
      "  \"English_Review\": \"I find the taste mediocre. The foam does not hold, it's weird. I buy the same ones in stores and the taste is much better... Old batch or counterfeit!?\",\n",
      "  \"summary\": \"The reviewer is disappointed by the mediocre taste and lack of foam retention in the product, questioning whether it is an old batch or counterfeit.\"\n",
      "}\n",
      "\u001b[32;1m\u001b[1;3m[llm/start]\u001b[0m \u001b[1m[chain:SequentialChain > chain:LLMChain > llm:ChatOpenAI] Entering LLM run with input:\n",
      "\u001b[0m{\n",
      "  \"prompts\": [\n",
      "    \"Human: What language is the following review:\\n\\nJe trouve le goût médiocre. La mousse ne tient pas, c'est bizarre. J'achète les mêmes dans le commerce et le goût est bien meilleur...\\r\\nVieux lot ou contrefaçon !?. Respond with one single word, such as Portuguese, German or French.\"\n",
      "  ]\n",
      "}\n"
     ]
    },
    {
     "name": "stderr",
     "output_type": "stream",
     "text": [
      "2024-06-10 22:40:42 - DEBUG - _trace.py:trace:45 - receive_response_headers.complete return_value=(b'HTTP/1.1', 200, b'OK', [(b'Date', b'Mon, 10 Jun 2024 20:40:42 GMT'), (b'Content-Type', b'application/json'), (b'Transfer-Encoding', b'chunked'), (b'Connection', b'keep-alive'), (b'openai-organization', b'user-vycexojfpphtlaesrwlkvocv'), (b'openai-processing-ms', b'268'), (b'openai-version', b'2020-10-01'), (b'strict-transport-security', b'max-age=15724800; includeSubDomains'), (b'x-ratelimit-limit-requests', b'10000'), (b'x-ratelimit-limit-tokens', b'60000'), (b'x-ratelimit-remaining-requests', b'9997'), (b'x-ratelimit-remaining-tokens', b'59913'), (b'x-ratelimit-reset-requests', b'24.319s'), (b'x-ratelimit-reset-tokens', b'87ms'), (b'x-request-id', b'req_a3b5ff1fb4f3241803cda986d2299a7a'), (b'CF-Cache-Status', b'DYNAMIC'), (b'Server', b'cloudflare'), (b'CF-RAY', b'891c2d8f1d0201ce-CDG'), (b'Content-Encoding', b'gzip'), (b'alt-svc', b'h3=\":443\"; ma=86400')])\n",
      "2024-06-10 22:40:42 - INFO - _client.py:_send_single_request:1026 - HTTP Request: POST https://api.openai.com/v1/chat/completions \"HTTP/1.1 200 OK\"\n",
      "2024-06-10 22:40:42 - DEBUG - _trace.py:trace:45 - receive_response_body.started request=<Request [b'POST']>\n",
      "2024-06-10 22:40:42 - DEBUG - _trace.py:trace:45 - receive_response_body.complete\n",
      "2024-06-10 22:40:42 - DEBUG - _trace.py:trace:45 - response_closed.started\n",
      "2024-06-10 22:40:42 - DEBUG - _trace.py:trace:45 - response_closed.complete\n",
      "2024-06-10 22:40:42 - DEBUG - _base_client.py:_request:988 - HTTP Response: POST https://api.openai.com/v1/chat/completions \"200 OK\" Headers({'date': 'Mon, 10 Jun 2024 20:40:42 GMT', 'content-type': 'application/json', 'transfer-encoding': 'chunked', 'connection': 'keep-alive', 'openai-organization': 'user-vycexojfpphtlaesrwlkvocv', 'openai-processing-ms': '268', 'openai-version': '2020-10-01', 'strict-transport-security': 'max-age=15724800; includeSubDomains', 'x-ratelimit-limit-requests': '10000', 'x-ratelimit-limit-tokens': '60000', 'x-ratelimit-remaining-requests': '9997', 'x-ratelimit-remaining-tokens': '59913', 'x-ratelimit-reset-requests': '24.319s', 'x-ratelimit-reset-tokens': '87ms', 'x-request-id': 'req_a3b5ff1fb4f3241803cda986d2299a7a', 'cf-cache-status': 'DYNAMIC', 'server': 'cloudflare', 'cf-ray': '891c2d8f1d0201ce-CDG', 'content-encoding': 'gzip', 'alt-svc': 'h3=\":443\"; ma=86400'})\n",
      "2024-06-10 22:40:42 - DEBUG - _base_client.py:_request:996 - request_id: req_a3b5ff1fb4f3241803cda986d2299a7a\n",
      "2024-06-10 22:40:42 - DEBUG - _base_client.py:_build_request:446 - Request options: {'method': 'post', 'url': '/chat/completions', 'files': None, 'json_data': {'messages': [{'content': 'Write a follow up response to the following summary in the specified language:\\n\\nSummary: The reviewer is disappointed by the mediocre taste and lack of foam retention in the product, questioning whether it is an old batch or counterfeit.\\n\\nLanguage: French', 'role': 'user'}], 'model': 'gpt-3.5-turbo', 'n': 1, 'stream': False, 'temperature': 0.9}}\n",
      "2024-06-10 22:40:42 - DEBUG - _base_client.py:_request:949 - Sending HTTP Request: POST https://api.openai.com/v1/chat/completions\n",
      "2024-06-10 22:40:42 - DEBUG - _trace.py:trace:45 - send_request_headers.started request=<Request [b'POST']>\n",
      "2024-06-10 22:40:42 - DEBUG - _trace.py:trace:45 - send_request_headers.complete\n",
      "2024-06-10 22:40:42 - DEBUG - _trace.py:trace:45 - send_request_body.started request=<Request [b'POST']>\n",
      "2024-06-10 22:40:42 - DEBUG - _trace.py:trace:45 - send_request_body.complete\n",
      "2024-06-10 22:40:42 - DEBUG - _trace.py:trace:45 - receive_response_headers.started request=<Request [b'POST']>\n"
     ]
    },
    {
     "name": "stdout",
     "output_type": "stream",
     "text": [
      "\u001b[36;1m\u001b[1;3m[llm/end]\u001b[0m \u001b[1m[chain:SequentialChain > chain:LLMChain > llm:ChatOpenAI] [474ms] Exiting LLM run with output:\n",
      "\u001b[0m{\n",
      "  \"generations\": [\n",
      "    [\n",
      "      {\n",
      "        \"text\": \"French\",\n",
      "        \"generation_info\": {\n",
      "          \"finish_reason\": \"stop\",\n",
      "          \"logprobs\": null\n",
      "        },\n",
      "        \"type\": \"ChatGeneration\",\n",
      "        \"message\": {\n",
      "          \"lc\": 1,\n",
      "          \"type\": \"constructor\",\n",
      "          \"id\": [\n",
      "            \"langchain\",\n",
      "            \"schema\",\n",
      "            \"messages\",\n",
      "            \"AIMessage\"\n",
      "          ],\n",
      "          \"kwargs\": {\n",
      "            \"content\": \"French\",\n",
      "            \"response_metadata\": {\n",
      "              \"token_usage\": {\n",
      "                \"completion_tokens\": 1,\n",
      "                \"prompt_tokens\": 78,\n",
      "                \"total_tokens\": 79\n",
      "              },\n",
      "              \"model_name\": \"gpt-3.5-turbo\",\n",
      "              \"system_fingerprint\": null,\n",
      "              \"finish_reason\": \"stop\",\n",
      "              \"logprobs\": null\n",
      "            },\n",
      "            \"type\": \"ai\",\n",
      "            \"id\": \"run-c656f7e4-aac9-41e2-abf1-d7349a1397ca-0\",\n",
      "            \"usage_metadata\": {\n",
      "              \"input_tokens\": 78,\n",
      "              \"output_tokens\": 1,\n",
      "              \"total_tokens\": 79\n",
      "            },\n",
      "            \"tool_calls\": [],\n",
      "            \"invalid_tool_calls\": []\n",
      "          }\n",
      "        }\n",
      "      }\n",
      "    ]\n",
      "  ],\n",
      "  \"llm_output\": {\n",
      "    \"token_usage\": {\n",
      "      \"completion_tokens\": 1,\n",
      "      \"prompt_tokens\": 78,\n",
      "      \"total_tokens\": 79\n",
      "    },\n",
      "    \"model_name\": \"gpt-3.5-turbo\",\n",
      "    \"system_fingerprint\": null\n",
      "  },\n",
      "  \"run\": null\n",
      "}\n",
      "\u001b[36;1m\u001b[1;3m[chain/end]\u001b[0m \u001b[1m[chain:SequentialChain > chain:LLMChain] [475ms] Exiting Chain run with output:\n",
      "\u001b[0m{\n",
      "  \"language\": \"French\"\n",
      "}\n",
      "\u001b[32;1m\u001b[1;3m[chain/start]\u001b[0m \u001b[1m[chain:SequentialChain > chain:LLMChain] Entering Chain run with input:\n",
      "\u001b[0m{\n",
      "  \"Review\": \"Je trouve le goût médiocre. La mousse ne tient pas, c'est bizarre. J'achète les mêmes dans le commerce et le goût est bien meilleur...\\r\\nVieux lot ou contrefaçon !?\",\n",
      "  \"English_Review\": \"I find the taste mediocre. The foam does not hold, it's weird. I buy the same ones in stores and the taste is much better... Old batch or counterfeit!?\",\n",
      "  \"summary\": \"The reviewer is disappointed by the mediocre taste and lack of foam retention in the product, questioning whether it is an old batch or counterfeit.\",\n",
      "  \"language\": \"French\"\n",
      "}\n",
      "\u001b[32;1m\u001b[1;3m[llm/start]\u001b[0m \u001b[1m[chain:SequentialChain > chain:LLMChain > llm:ChatOpenAI] Entering LLM run with input:\n",
      "\u001b[0m{\n",
      "  \"prompts\": [\n",
      "    \"Human: Write a follow up response to the following summary in the specified language:\\n\\nSummary: The reviewer is disappointed by the mediocre taste and lack of foam retention in the product, questioning whether it is an old batch or counterfeit.\\n\\nLanguage: French\"\n",
      "  ]\n",
      "}\n"
     ]
    },
    {
     "name": "stderr",
     "output_type": "stream",
     "text": [
      "2024-06-10 22:40:45 - DEBUG - _trace.py:trace:45 - receive_response_headers.complete return_value=(b'HTTP/1.1', 200, b'OK', [(b'Date', b'Mon, 10 Jun 2024 20:40:45 GMT'), (b'Content-Type', b'application/json'), (b'Transfer-Encoding', b'chunked'), (b'Connection', b'keep-alive'), (b'openai-organization', b'user-vycexojfpphtlaesrwlkvocv'), (b'openai-processing-ms', b'2325'), (b'openai-version', b'2020-10-01'), (b'strict-transport-security', b'max-age=15724800; includeSubDomains'), (b'x-ratelimit-limit-requests', b'10000'), (b'x-ratelimit-limit-tokens', b'60000'), (b'x-ratelimit-remaining-requests', b'9996'), (b'x-ratelimit-remaining-tokens', b'59919'), (b'x-ratelimit-reset-requests', b'32.475s'), (b'x-ratelimit-reset-tokens', b'81ms'), (b'x-request-id', b'req_bc39d2a29e5544efbfa1550d08062be5'), (b'CF-Cache-Status', b'DYNAMIC'), (b'Server', b'cloudflare'), (b'CF-RAY', b'891c2d921a6a01ce-CDG'), (b'Content-Encoding', b'gzip'), (b'alt-svc', b'h3=\":443\"; ma=86400')])\n",
      "2024-06-10 22:40:45 - INFO - _client.py:_send_single_request:1026 - HTTP Request: POST https://api.openai.com/v1/chat/completions \"HTTP/1.1 200 OK\"\n",
      "2024-06-10 22:40:45 - DEBUG - _trace.py:trace:45 - receive_response_body.started request=<Request [b'POST']>\n",
      "2024-06-10 22:40:45 - DEBUG - _trace.py:trace:45 - receive_response_body.complete\n",
      "2024-06-10 22:40:45 - DEBUG - _trace.py:trace:45 - response_closed.started\n",
      "2024-06-10 22:40:45 - DEBUG - _trace.py:trace:45 - response_closed.complete\n",
      "2024-06-10 22:40:45 - DEBUG - _base_client.py:_request:988 - HTTP Response: POST https://api.openai.com/v1/chat/completions \"200 OK\" Headers({'date': 'Mon, 10 Jun 2024 20:40:45 GMT', 'content-type': 'application/json', 'transfer-encoding': 'chunked', 'connection': 'keep-alive', 'openai-organization': 'user-vycexojfpphtlaesrwlkvocv', 'openai-processing-ms': '2325', 'openai-version': '2020-10-01', 'strict-transport-security': 'max-age=15724800; includeSubDomains', 'x-ratelimit-limit-requests': '10000', 'x-ratelimit-limit-tokens': '60000', 'x-ratelimit-remaining-requests': '9996', 'x-ratelimit-remaining-tokens': '59919', 'x-ratelimit-reset-requests': '32.475s', 'x-ratelimit-reset-tokens': '81ms', 'x-request-id': 'req_bc39d2a29e5544efbfa1550d08062be5', 'cf-cache-status': 'DYNAMIC', 'server': 'cloudflare', 'cf-ray': '891c2d921a6a01ce-CDG', 'content-encoding': 'gzip', 'alt-svc': 'h3=\":443\"; ma=86400'})\n",
      "2024-06-10 22:40:45 - DEBUG - _base_client.py:_request:996 - request_id: req_bc39d2a29e5544efbfa1550d08062be5\n"
     ]
    },
    {
     "name": "stdout",
     "output_type": "stream",
     "text": [
      "\u001b[36;1m\u001b[1;3m[llm/end]\u001b[0m \u001b[1m[chain:SequentialChain > chain:LLMChain > llm:ChatOpenAI] [2.66s] Exiting LLM run with output:\n",
      "\u001b[0m{\n",
      "  \"generations\": [\n",
      "    [\n",
      "      {\n",
      "        \"text\": \"Cher client,\\n\\nNous vous remercions pour vos commentaires concernant notre produit. Nous sommes désolés d'apprendre que vous avez été déçu par le goût moyen et le manque de tenue de la mousse. Nous tenons à vous assurer que notre produit est toujours fabriqué avec les meilleurs ingrédients de qualité. Cependant, nous allons immédiatement enquêter sur la question pour voir s'il s'agit d'un lot ancien ou contrefait. Votre satisfaction est importante pour nous et nous ferons tout notre possible pour remédier à cette situation.\\n\\nMerci encore pour votre retour et votre soutien.\\n\\nCordialement, [Votre société]\",\n",
      "        \"generation_info\": {\n",
      "          \"finish_reason\": \"stop\",\n",
      "          \"logprobs\": null\n",
      "        },\n",
      "        \"type\": \"ChatGeneration\",\n",
      "        \"message\": {\n",
      "          \"lc\": 1,\n",
      "          \"type\": \"constructor\",\n",
      "          \"id\": [\n",
      "            \"langchain\",\n",
      "            \"schema\",\n",
      "            \"messages\",\n",
      "            \"AIMessage\"\n",
      "          ],\n",
      "          \"kwargs\": {\n",
      "            \"content\": \"Cher client,\\n\\nNous vous remercions pour vos commentaires concernant notre produit. Nous sommes désolés d'apprendre que vous avez été déçu par le goût moyen et le manque de tenue de la mousse. Nous tenons à vous assurer que notre produit est toujours fabriqué avec les meilleurs ingrédients de qualité. Cependant, nous allons immédiatement enquêter sur la question pour voir s'il s'agit d'un lot ancien ou contrefait. Votre satisfaction est importante pour nous et nous ferons tout notre possible pour remédier à cette situation.\\n\\nMerci encore pour votre retour et votre soutien.\\n\\nCordialement, [Votre société]\",\n",
      "            \"response_metadata\": {\n",
      "              \"token_usage\": {\n",
      "                \"completion_tokens\": 150,\n",
      "                \"prompt_tokens\": 53,\n",
      "                \"total_tokens\": 203\n",
      "              },\n",
      "              \"model_name\": \"gpt-3.5-turbo\",\n",
      "              \"system_fingerprint\": null,\n",
      "              \"finish_reason\": \"stop\",\n",
      "              \"logprobs\": null\n",
      "            },\n",
      "            \"type\": \"ai\",\n",
      "            \"id\": \"run-c5d07ba0-92d7-4b96-8448-3dd966935961-0\",\n",
      "            \"usage_metadata\": {\n",
      "              \"input_tokens\": 53,\n",
      "              \"output_tokens\": 150,\n",
      "              \"total_tokens\": 203\n",
      "            },\n",
      "            \"tool_calls\": [],\n",
      "            \"invalid_tool_calls\": []\n",
      "          }\n",
      "        }\n",
      "      }\n",
      "    ]\n",
      "  ],\n",
      "  \"llm_output\": {\n",
      "    \"token_usage\": {\n",
      "      \"completion_tokens\": 150,\n",
      "      \"prompt_tokens\": 53,\n",
      "      \"total_tokens\": 203\n",
      "    },\n",
      "    \"model_name\": \"gpt-3.5-turbo\",\n",
      "    \"system_fingerprint\": null\n",
      "  },\n",
      "  \"run\": null\n",
      "}\n",
      "\u001b[36;1m\u001b[1;3m[chain/end]\u001b[0m \u001b[1m[chain:SequentialChain > chain:LLMChain] [2.66s] Exiting Chain run with output:\n",
      "\u001b[0m{\n",
      "  \"followup_message\": \"Cher client,\\n\\nNous vous remercions pour vos commentaires concernant notre produit. Nous sommes désolés d'apprendre que vous avez été déçu par le goût moyen et le manque de tenue de la mousse. Nous tenons à vous assurer que notre produit est toujours fabriqué avec les meilleurs ingrédients de qualité. Cependant, nous allons immédiatement enquêter sur la question pour voir s'il s'agit d'un lot ancien ou contrefait. Votre satisfaction est importante pour nous et nous ferons tout notre possible pour remédier à cette situation.\\n\\nMerci encore pour votre retour et votre soutien.\\n\\nCordialement, [Votre société]\"\n",
      "}\n",
      "\u001b[36;1m\u001b[1;3m[chain/end]\u001b[0m \u001b[1m[chain:SequentialChain] [4.78s] Exiting Chain run with output:\n",
      "\u001b[0m{\n",
      "  \"English_Review\": \"I find the taste mediocre. The foam does not hold, it's weird. I buy the same ones in stores and the taste is much better... Old batch or counterfeit!?\",\n",
      "  \"summary\": \"The reviewer is disappointed by the mediocre taste and lack of foam retention in the product, questioning whether it is an old batch or counterfeit.\",\n",
      "  \"followup_message\": \"Cher client,\\n\\nNous vous remercions pour vos commentaires concernant notre produit. Nous sommes désolés d'apprendre que vous avez été déçu par le goût moyen et le manque de tenue de la mousse. Nous tenons à vous assurer que notre produit est toujours fabriqué avec les meilleurs ingrédients de qualité. Cependant, nous allons immédiatement enquêter sur la question pour voir s'il s'agit d'un lot ancien ou contrefait. Votre satisfaction est importante pour nous et nous ferons tout notre possible pour remédier à cette situation.\\n\\nMerci encore pour votre retour et votre soutien.\\n\\nCordialement, [Votre société]\"\n",
      "}\n"
     ]
    },
    {
     "data": {
      "text/plain": [
       "{'Review': \"Je trouve le goût médiocre. La mousse ne tient pas, c'est bizarre. J'achète les mêmes dans le commerce et le goût est bien meilleur...\\r\\nVieux lot ou contrefaçon !?\",\n",
       " 'English_Review': \"I find the taste mediocre. The foam does not hold, it's weird. I buy the same ones in stores and the taste is much better... Old batch or counterfeit!?\",\n",
       " 'summary': 'The reviewer is disappointed by the mediocre taste and lack of foam retention in the product, questioning whether it is an old batch or counterfeit.',\n",
       " 'followup_message': \"Cher client,\\n\\nNous vous remercions pour vos commentaires concernant notre produit. Nous sommes désolés d'apprendre que vous avez été déçu par le goût moyen et le manque de tenue de la mousse. Nous tenons à vous assurer que notre produit est toujours fabriqué avec les meilleurs ingrédients de qualité. Cependant, nous allons immédiatement enquêter sur la question pour voir s'il s'agit d'un lot ancien ou contrefait. Votre satisfaction est importante pour nous et nous ferons tout notre possible pour remédier à cette situation.\\n\\nMerci encore pour votre retour et votre soutien.\\n\\nCordialement, [Votre société]\"}"
      ]
     },
     "execution_count": 100,
     "metadata": {},
     "output_type": "execute_result"
    }
   ],
   "source": [
    "#import langchain\n",
    "#langchain.debug = True\n",
    "review = df.Review[5]\n",
    "overall_chain.invoke(review)"
   ]
  },
  {
   "cell_type": "code",
   "execution_count": null,
   "id": "fed7154f",
   "metadata": {},
   "outputs": [],
   "source": [
    "import logging\n",
    "import requests \n",
    "\n",
    "\n",
    "logging.basicConfig(level=logging.DEBUG,\n",
    "                    format='%(asctime)s - %(levelname)s - %(filename)s:%(funcName)s:%(lineno)d - %(message)s',\n",
    "                    datefmt='%Y-%m-%d %H:%M:%S')\n",
    "requests.packages.urllib3.add_stderr_logger()"
   ]
  },
  {
   "cell_type": "code",
   "execution_count": 223,
   "id": "9c444201",
   "metadata": {},
   "outputs": [],
   "source": [
    "from operator import itemgetter\n",
    "from langchain_core.runnables import RunnablePassthrough, RunnableParallel, RunnableMap\n",
    "\n",
    "chain_one = first_prompt | llm | { \"English_Review\": StrOutputParser() }\n",
    "#chain_two = second_prompt | llm | { \"Review\": itemgetter(\"Review\"), \"English_Review\": RunnablePassthrough(), \"summary\": StrOutputParser() }\n",
    "#chain_three = third_prompt | llm | {\"Review\": itemgetter(\"Review\"), \"English_Review\": RunnablePassthrough(), \"summary\": RunnablePassthrough(), \"language\": StrOutputParser() }\n",
    "#chain_four = fourth_prompt | llm | { \"Review\": itemgetter(\"Review\"), \"English_Review\": RunnablePassthrough(), \"summary\": RunnablePassthrough(), \"language\": StrOutputParser(), \"followup_message\": StrOutputParser() }\n",
    "\n",
    "chain_one = first_prompt | llm | StrOutputParser() # task: translate {Review} to {English_Review}\n",
    "chain_two = {\"English_Review\": chain_one} | second_prompt | llm |  StrOutputParser() # task: summarize English_Review into {summary}\n",
    "chain_three = {\"summary\": chain_two, \"Review\": itemgetter(\"Review\")} | third_prompt | llm | StrOutputParser() # task: find {language} of {Review}\n",
    "chain_four =  {\"language\": chain_three, \"summary\": chain_two} | fourth_prompt | llm | { \"followup_message\": StrOutputParser() } # task: generate follow up message to {summary} in {language}\n"
   ]
  },
  {
   "cell_type": "code",
   "execution_count": 225,
   "id": "a75e7c6b",
   "metadata": {},
   "outputs": [
    {
     "name": "stderr",
     "output_type": "stream",
     "text": [
      "2024-06-11 01:13:47 - DEBUG - _base_client.py:_build_request:446 - Request options: {'method': 'post', 'url': '/chat/completions', 'files': None, 'json_data': {'messages': [{'content': \"Translate the following review to English:\\n\\nJe trouve le goût médiocre. La mousse ne tient pas, c'est bizarre. J'achète les mêmes dans le commerce et le goût est bien meilleur...\\r\\nVieux lot ou contrefaçon !?. Do not mention in the response that this is a translation.\", 'role': 'user'}], 'model': 'llama3:8b', 'n': 1, 'stream': False, 'temperature': 0.0}}\n",
      "2024-06-11 01:13:47 - DEBUG - _base_client.py:_request:949 - Sending HTTP Request: POST http://localhost:11434/v1/chat/completions\n",
      "2024-06-11 01:13:47 - DEBUG - _trace.py:trace:45 - send_request_headers.started request=<Request [b'POST']>\n",
      "2024-06-11 01:13:47 - DEBUG - _trace.py:trace:45 - send_request_headers.complete\n",
      "2024-06-11 01:13:47 - DEBUG - _trace.py:trace:45 - send_request_body.started request=<Request [b'POST']>\n",
      "2024-06-11 01:13:47 - DEBUG - _trace.py:trace:45 - send_request_body.complete\n",
      "2024-06-11 01:13:47 - DEBUG - _trace.py:trace:45 - receive_response_headers.started request=<Request [b'POST']>\n",
      "2024-06-11 01:13:47 - DEBUG - _base_client.py:_build_request:446 - Request options: {'method': 'post', 'url': '/chat/completions', 'files': None, 'json_data': {'messages': [{'content': \"Translate the following review to English:\\n\\nJe trouve le goût médiocre. La mousse ne tient pas, c'est bizarre. J'achète les mêmes dans le commerce et le goût est bien meilleur...\\r\\nVieux lot ou contrefaçon !?. Do not mention in the response that this is a translation.\", 'role': 'user'}], 'model': 'llama3:8b', 'n': 1, 'stream': False, 'temperature': 0.0}}\n",
      "2024-06-11 01:13:47 - DEBUG - _base_client.py:_request:949 - Sending HTTP Request: POST http://localhost:11434/v1/chat/completions\n",
      "2024-06-11 01:13:47 - DEBUG - _trace.py:trace:45 - connect_tcp.started host='localhost' port=11434 local_address=None timeout=None socket_options=None\n",
      "2024-06-11 01:13:49 - DEBUG - _trace.py:trace:45 - connect_tcp.complete return_value=<httpcore._backends.sync.SyncStream object at 0x00000293F15EB220>\n",
      "2024-06-11 01:13:49 - DEBUG - _trace.py:trace:45 - send_request_headers.started request=<Request [b'POST']>\n",
      "2024-06-11 01:13:49 - DEBUG - _trace.py:trace:45 - send_request_headers.complete\n",
      "2024-06-11 01:13:49 - DEBUG - _trace.py:trace:45 - send_request_body.started request=<Request [b'POST']>\n",
      "2024-06-11 01:13:49 - DEBUG - _trace.py:trace:45 - send_request_body.complete\n",
      "2024-06-11 01:13:49 - DEBUG - _trace.py:trace:45 - receive_response_headers.started request=<Request [b'POST']>\n",
      "2024-06-11 01:13:53 - DEBUG - _trace.py:trace:45 - receive_response_headers.complete return_value=(b'HTTP/1.1', 200, b'OK', [(b'Content-Type', b'application/json'), (b'Date', b'Mon, 10 Jun 2024 23:13:53 GMT'), (b'Content-Length', b'444')])\n",
      "2024-06-11 01:13:53 - INFO - _client.py:_send_single_request:1026 - HTTP Request: POST http://localhost:11434/v1/chat/completions \"HTTP/1.1 200 OK\"\n",
      "2024-06-11 01:13:53 - DEBUG - _trace.py:trace:45 - receive_response_body.started request=<Request [b'POST']>\n",
      "2024-06-11 01:13:53 - DEBUG - _trace.py:trace:45 - receive_response_body.complete\n",
      "2024-06-11 01:13:53 - DEBUG - _trace.py:trace:45 - response_closed.started\n",
      "2024-06-11 01:13:53 - DEBUG - _trace.py:trace:45 - response_closed.complete\n",
      "2024-06-11 01:13:53 - DEBUG - _base_client.py:_request:988 - HTTP Response: POST http://localhost:11434/v1/chat/completions \"200 OK\" Headers({'content-type': 'application/json', 'date': 'Mon, 10 Jun 2024 23:13:53 GMT', 'content-length': '444'})\n",
      "2024-06-11 01:13:53 - DEBUG - _base_client.py:_request:996 - request_id: None\n",
      "2024-06-11 01:13:53 - DEBUG - _base_client.py:_build_request:446 - Request options: {'method': 'post', 'url': '/chat/completions', 'files': None, 'json_data': {'messages': [{'content': \"Can you summarize the following review in 1 sentence:\\n\\nI find the taste mediocre. The mousse doesn't hold up, it's weird. I buy the same ones in stores and the taste is much better...\\n\\nOld batch or counterfeit!?!\", 'role': 'user'}], 'model': 'llama3:8b', 'n': 1, 'stream': False, 'temperature': 0.0}}\n",
      "2024-06-11 01:13:53 - DEBUG - _base_client.py:_request:949 - Sending HTTP Request: POST http://localhost:11434/v1/chat/completions\n",
      "2024-06-11 01:13:53 - DEBUG - _trace.py:trace:45 - send_request_headers.started request=<Request [b'POST']>\n",
      "2024-06-11 01:13:53 - DEBUG - _trace.py:trace:45 - send_request_headers.complete\n",
      "2024-06-11 01:13:53 - DEBUG - _trace.py:trace:45 - send_request_body.started request=<Request [b'POST']>\n",
      "2024-06-11 01:13:53 - DEBUG - _trace.py:trace:45 - send_request_body.complete\n",
      "2024-06-11 01:13:53 - DEBUG - _trace.py:trace:45 - receive_response_headers.started request=<Request [b'POST']>\n",
      "2024-06-11 01:13:58 - DEBUG - _trace.py:trace:45 - receive_response_headers.complete return_value=(b'HTTP/1.1', 200, b'OK', [(b'Content-Type', b'application/json'), (b'Date', b'Mon, 10 Jun 2024 23:13:58 GMT'), (b'Content-Length', b'440')])\n",
      "2024-06-11 01:13:58 - INFO - _client.py:_send_single_request:1026 - HTTP Request: POST http://localhost:11434/v1/chat/completions \"HTTP/1.1 200 OK\"\n",
      "2024-06-11 01:13:58 - DEBUG - _trace.py:trace:45 - receive_response_body.started request=<Request [b'POST']>\n",
      "2024-06-11 01:13:58 - DEBUG - _trace.py:trace:45 - receive_response_body.complete\n",
      "2024-06-11 01:13:58 - DEBUG - _trace.py:trace:45 - response_closed.started\n",
      "2024-06-11 01:13:58 - DEBUG - _trace.py:trace:45 - response_closed.complete\n",
      "2024-06-11 01:13:58 - DEBUG - _base_client.py:_request:988 - HTTP Response: POST http://localhost:11434/v1/chat/completions \"200 OK\" Headers({'content-type': 'application/json', 'date': 'Mon, 10 Jun 2024 23:13:58 GMT', 'content-length': '440'})\n",
      "2024-06-11 01:13:58 - DEBUG - _base_client.py:_request:996 - request_id: None\n",
      "2024-06-11 01:13:58 - DEBUG - _base_client.py:_build_request:446 - Request options: {'method': 'post', 'url': '/chat/completions', 'files': None, 'json_data': {'messages': [{'content': \"Can you summarize the following review in 1 sentence:\\n\\nI find the taste mediocre. The foam doesn't hold up, it's weird. I buy the same ones in stores and the taste is much better...\\n\\nOld batch or counterfeit!?!\", 'role': 'user'}], 'model': 'llama3:8b', 'n': 1, 'stream': False, 'temperature': 0.0}}\n",
      "2024-06-11 01:13:58 - DEBUG - _base_client.py:_request:949 - Sending HTTP Request: POST http://localhost:11434/v1/chat/completions\n",
      "2024-06-11 01:13:58 - DEBUG - _trace.py:trace:45 - send_request_headers.started request=<Request [b'POST']>\n",
      "2024-06-11 01:13:58 - DEBUG - _trace.py:trace:45 - send_request_headers.complete\n",
      "2024-06-11 01:13:58 - DEBUG - _trace.py:trace:45 - send_request_body.started request=<Request [b'POST']>\n",
      "2024-06-11 01:13:58 - DEBUG - _trace.py:trace:45 - send_request_body.complete\n",
      "2024-06-11 01:13:58 - DEBUG - _trace.py:trace:45 - receive_response_headers.started request=<Request [b'POST']>\n",
      "2024-06-11 01:14:04 - DEBUG - _trace.py:trace:45 - receive_response_headers.complete return_value=(b'HTTP/1.1', 200, b'OK', [(b'Content-Type', b'application/json'), (b'Date', b'Mon, 10 Jun 2024 23:14:04 GMT'), (b'Content-Length', b'509')])\n",
      "2024-06-11 01:14:04 - INFO - _client.py:_send_single_request:1026 - HTTP Request: POST http://localhost:11434/v1/chat/completions \"HTTP/1.1 200 OK\"\n",
      "2024-06-11 01:14:04 - DEBUG - _trace.py:trace:45 - receive_response_body.started request=<Request [b'POST']>\n",
      "2024-06-11 01:14:04 - DEBUG - _trace.py:trace:45 - receive_response_body.complete\n",
      "2024-06-11 01:14:04 - DEBUG - _trace.py:trace:45 - response_closed.started\n",
      "2024-06-11 01:14:04 - DEBUG - _trace.py:trace:45 - response_closed.complete\n",
      "2024-06-11 01:14:04 - DEBUG - _base_client.py:_request:988 - HTTP Response: POST http://localhost:11434/v1/chat/completions \"200 OK\" Headers({'content-type': 'application/json', 'date': 'Mon, 10 Jun 2024 23:14:04 GMT', 'content-length': '509'})\n",
      "2024-06-11 01:14:04 - DEBUG - _base_client.py:_request:996 - request_id: None\n",
      "2024-06-11 01:14:04 - DEBUG - _base_client.py:_build_request:446 - Request options: {'method': 'post', 'url': '/chat/completions', 'files': None, 'json_data': {'messages': [{'content': \"What language is the following review:\\n\\nJe trouve le goût médiocre. La mousse ne tient pas, c'est bizarre. J'achète les mêmes dans le commerce et le goût est bien meilleur...\\r\\nVieux lot ou contrefaçon !?. Respond with one single word, such as Portuguese, German or French.\", 'role': 'user'}], 'model': 'llama3:8b', 'n': 1, 'stream': False, 'temperature': 0.0}}\n",
      "2024-06-11 01:14:04 - DEBUG - _base_client.py:_request:949 - Sending HTTP Request: POST http://localhost:11434/v1/chat/completions\n",
      "2024-06-11 01:14:04 - DEBUG - _trace.py:trace:45 - send_request_headers.started request=<Request [b'POST']>\n",
      "2024-06-11 01:14:04 - DEBUG - _trace.py:trace:45 - send_request_headers.complete\n",
      "2024-06-11 01:14:04 - DEBUG - _trace.py:trace:45 - send_request_body.started request=<Request [b'POST']>\n",
      "2024-06-11 01:14:04 - DEBUG - _trace.py:trace:45 - send_request_body.complete\n",
      "2024-06-11 01:14:04 - DEBUG - _trace.py:trace:45 - receive_response_headers.started request=<Request [b'POST']>\n",
      "2024-06-11 01:14:09 - DEBUG - _trace.py:trace:45 - receive_response_headers.complete return_value=(b'HTTP/1.1', 200, b'OK', [(b'Content-Type', b'application/json'), (b'Date', b'Mon, 10 Jun 2024 23:14:09 GMT'), (b'Content-Length', b'453')])\n",
      "2024-06-11 01:14:09 - INFO - _client.py:_send_single_request:1026 - HTTP Request: POST http://localhost:11434/v1/chat/completions \"HTTP/1.1 200 OK\"\n",
      "2024-06-11 01:14:09 - DEBUG - _trace.py:trace:45 - receive_response_body.started request=<Request [b'POST']>\n",
      "2024-06-11 01:14:09 - DEBUG - _trace.py:trace:45 - receive_response_body.complete\n",
      "2024-06-11 01:14:09 - DEBUG - _trace.py:trace:45 - response_closed.started\n",
      "2024-06-11 01:14:09 - DEBUG - _trace.py:trace:45 - response_closed.complete\n",
      "2024-06-11 01:14:09 - DEBUG - _base_client.py:_request:988 - HTTP Response: POST http://localhost:11434/v1/chat/completions \"200 OK\" Headers({'content-type': 'application/json', 'date': 'Mon, 10 Jun 2024 23:14:09 GMT', 'content-length': '453'})\n",
      "2024-06-11 01:14:09 - DEBUG - _base_client.py:_request:996 - request_id: None\n",
      "2024-06-11 01:14:09 - DEBUG - _trace.py:trace:45 - receive_response_headers.complete return_value=(b'HTTP/1.1', 200, b'OK', [(b'Content-Type', b'application/json'), (b'Date', b'Mon, 10 Jun 2024 23:14:09 GMT'), (b'Content-Length', b'289')])\n",
      "2024-06-11 01:14:09 - INFO - _client.py:_send_single_request:1026 - HTTP Request: POST http://localhost:11434/v1/chat/completions \"HTTP/1.1 200 OK\"\n",
      "2024-06-11 01:14:09 - DEBUG - _trace.py:trace:45 - receive_response_body.started request=<Request [b'POST']>\n",
      "2024-06-11 01:14:09 - DEBUG - _trace.py:trace:45 - receive_response_body.complete\n",
      "2024-06-11 01:14:09 - DEBUG - _trace.py:trace:45 - response_closed.started\n",
      "2024-06-11 01:14:09 - DEBUG - _trace.py:trace:45 - response_closed.complete\n",
      "2024-06-11 01:14:09 - DEBUG - _base_client.py:_request:988 - HTTP Response: POST http://localhost:11434/v1/chat/completions \"200 OK\" Headers({'content-type': 'application/json', 'date': 'Mon, 10 Jun 2024 23:14:09 GMT', 'content-length': '289'})\n",
      "2024-06-11 01:14:09 - DEBUG - _base_client.py:_request:996 - request_id: None\n",
      "2024-06-11 01:14:09 - DEBUG - _base_client.py:_build_request:446 - Request options: {'method': 'post', 'url': '/chat/completions', 'files': None, 'json_data': {'messages': [{'content': 'As a customer service representative, write a follow up response to the following review summary in the specified language:\\n\\nReview Summary: The reviewer finds the taste of their purchased beer to be mediocre, with poor foam retention, and suspects that either the batch was old or the product was counterfeit.\\n\\nLanguage: French', 'role': 'user'}], 'model': 'llama3:8b', 'n': 1, 'stream': False, 'temperature': 0.0}}\n",
      "2024-06-11 01:14:09 - DEBUG - _base_client.py:_request:949 - Sending HTTP Request: POST http://localhost:11434/v1/chat/completions\n",
      "2024-06-11 01:14:09 - DEBUG - _trace.py:trace:45 - send_request_headers.started request=<Request [b'POST']>\n",
      "2024-06-11 01:14:09 - DEBUG - _trace.py:trace:45 - send_request_headers.complete\n",
      "2024-06-11 01:14:09 - DEBUG - _trace.py:trace:45 - send_request_body.started request=<Request [b'POST']>\n",
      "2024-06-11 01:14:09 - DEBUG - _trace.py:trace:45 - send_request_body.complete\n",
      "2024-06-11 01:14:09 - DEBUG - _trace.py:trace:45 - receive_response_headers.started request=<Request [b'POST']>\n",
      "2024-06-11 01:15:11 - DEBUG - _trace.py:trace:45 - receive_response_headers.complete return_value=(b'HTTP/1.1', 200, b'OK', [(b'Content-Type', b'application/json'), (b'Date', b'Mon, 10 Jun 2024 23:15:11 GMT'), (b'Transfer-Encoding', b'chunked')])\n",
      "2024-06-11 01:15:11 - INFO - _client.py:_send_single_request:1026 - HTTP Request: POST http://localhost:11434/v1/chat/completions \"HTTP/1.1 200 OK\"\n",
      "2024-06-11 01:15:11 - DEBUG - _trace.py:trace:45 - receive_response_body.started request=<Request [b'POST']>\n",
      "2024-06-11 01:15:11 - DEBUG - _trace.py:trace:45 - receive_response_body.complete\n",
      "2024-06-11 01:15:11 - DEBUG - _trace.py:trace:45 - response_closed.started\n",
      "2024-06-11 01:15:11 - DEBUG - _trace.py:trace:45 - response_closed.complete\n",
      "2024-06-11 01:15:11 - DEBUG - _trace.py:trace:45 - close.started\n",
      "2024-06-11 01:15:11 - DEBUG - _trace.py:trace:45 - close.complete\n",
      "2024-06-11 01:15:11 - DEBUG - _base_client.py:_request:988 - HTTP Response: POST http://localhost:11434/v1/chat/completions \"200 OK\" Headers({'content-type': 'application/json', 'date': 'Mon, 10 Jun 2024 23:15:11 GMT', 'transfer-encoding': 'chunked'})\n",
      "2024-06-11 01:15:11 - DEBUG - _base_client.py:_request:996 - request_id: None\n"
     ]
    },
    {
     "data": {
      "text/plain": [
       "{'followup_message': \"Bonjour,\\n\\nJe suis désolé d'apprendre que vous n'avez pas apprécié la saveur de votre bière achetée chez nous. Je comprends que le manque de tenue du mousse et la qualité médiocre de la bière peuvent être décevants.\\n\\nJe tiens à vous assurer que nous prenons très au sérieux vos commentaires et que nous allons enquêter sur les circonstances de votre achat. Il est possible que le lot de bière soit expiré ou qu'il y ait une erreur dans la production. Je vais également vérifier si votre produit est authentique.\\n\\nJe vous propose de me fournir plus d'informations sur votre achat, notamment la date et l'emplacement où vous l'avez acheté, ainsi que le code-barre du produit. Cela nous aidera à résoudre ce problème de manière efficace.\\n\\nJe suis à votre disposition pour discuter plus en détail de cette situation et trouver une solution qui vous convienne. N'hésitez pas à me contacter si vous avez des questions ou des préoccupations.\\n\\nCordialement,\\n[Votre nom]\\n\\nTranslation:\\n\\nHello,\\n\\nI'm sorry to hear that you didn't enjoy the taste of your beer purchased from us. I understand that the lack of foam retention and mediocre quality can be disappointing.\\n\\nI want to assure you that we take very seriously your comments and will investigate the circumstances of your purchase. It's possible that the batch is expired or there was an error in production. I'll also check if your product is authentic.\\n\\nI suggest providing me with more information about your purchase, including the date and location where you bought it, as well as the barcode of the product. This will help us resolve this issue effectively.\\n\\nI'm at your disposal to discuss this situation further and find a solution that suits you. Don't hesitate to contact me if you have any questions or concerns.\\n\\nBest regards,\\n[Your name]\"}"
      ]
     },
     "execution_count": 225,
     "metadata": {},
     "output_type": "execute_result"
    }
   ],
   "source": [
    "import langchain\n",
    "langchain.debug = False\n",
    "review = df.Review[5]\n",
    "chain_four.invoke({\"Review\": review})"
   ]
  },
  {
   "cell_type": "markdown",
   "id": "f747fdf9",
   "metadata": {},
   "source": [
    "## Router Chain"
   ]
  },
  {
   "cell_type": "code",
   "execution_count": null,
   "id": "a72c938f",
   "metadata": {},
   "outputs": [],
   "source": [
    "physics_template = \"\"\"You are a very smart physics professor. \\\n",
    "You are great at answering questions about physics in a concise\\\n",
    "and easy to understand manner. \\\n",
    "When you don't know the answer to a question you admit\\\n",
    "that you don't know.\n",
    "\n",
    "Here is a question:\n",
    "{input}\"\"\"\n",
    "\n",
    "\n",
    "math_template = \"\"\"You are a very good mathematician. \\\n",
    "You are great at answering math questions. \\\n",
    "You are so good because you are able to break down \\\n",
    "hard problems into their component parts, \n",
    "answer the component parts, and then put them together\\\n",
    "to answer the broader question.\n",
    "\n",
    "Here is a question:\n",
    "{input}\"\"\"\n",
    "\n",
    "history_template = \"\"\"You are a very good historian. \\\n",
    "You have an excellent knowledge of and understanding of people,\\\n",
    "events and contexts from a range of historical periods. \\\n",
    "You have the ability to think, reflect, debate, discuss and \\\n",
    "evaluate the past. You have a respect for historical evidence\\\n",
    "and the ability to make use of it to support your explanations \\\n",
    "and judgements.\n",
    "\n",
    "Here is a question:\n",
    "{input}\"\"\"\n",
    "\n",
    "\n",
    "computerscience_template = \"\"\" You are a successful computer scientist.\\\n",
    "You have a passion for creativity, collaboration,\\\n",
    "forward-thinking, confidence, strong problem-solving capabilities,\\\n",
    "understanding of theories and algorithms, and excellent communication \\\n",
    "skills. You are great at answering coding questions. \\\n",
    "You are so good because you know how to solve a problem by \\\n",
    "describing the solution in imperative steps \\\n",
    "that a machine can easily interpret and you know how to \\\n",
    "choose a solution that has a good balance between \\\n",
    "time complexity and space complexity. \n",
    "\n",
    "Here is a question:\n",
    "{input}\"\"\""
   ]
  },
  {
   "cell_type": "code",
   "execution_count": null,
   "id": "5d30ae83",
   "metadata": {},
   "outputs": [],
   "source": [
    "prompt_infos = [\n",
    "    {\n",
    "        \"name\": \"physics\", \n",
    "        \"description\": \"Good for answering questions about physics\", \n",
    "        \"prompt_template\": physics_template\n",
    "    },\n",
    "    {\n",
    "        \"name\": \"math\", \n",
    "        \"description\": \"Good for answering math questions\", \n",
    "        \"prompt_template\": math_template\n",
    "    },\n",
    "    {\n",
    "        \"name\": \"History\", \n",
    "        \"description\": \"Good for answering history questions\", \n",
    "        \"prompt_template\": history_template\n",
    "    },\n",
    "    {\n",
    "        \"name\": \"computer science\", \n",
    "        \"description\": \"Good for answering computer science questions\", \n",
    "        \"prompt_template\": computerscience_template\n",
    "    }\n",
    "]"
   ]
  },
  {
   "cell_type": "code",
   "execution_count": null,
   "id": "e1e5afc2",
   "metadata": {},
   "outputs": [],
   "source": [
    "from langchain.chains.router import MultiPromptChain\n",
    "from langchain.chains.router.llm_router import LLMRouterChain,RouterOutputParser\n",
    "from langchain.prompts import PromptTemplate"
   ]
  },
  {
   "cell_type": "code",
   "execution_count": null,
   "id": "8e42098b",
   "metadata": {},
   "outputs": [],
   "source": [
    "llm = ChatOpenAI(temperature=0)"
   ]
  },
  {
   "cell_type": "code",
   "execution_count": null,
   "id": "3a457ee1",
   "metadata": {},
   "outputs": [],
   "source": [
    "# class that wraps another class and logs all function calls being executed \n",
    "class Wrapper:\n",
    "    def __init__(self, wrapped_class):\n",
    "        self.wrapped_class = wrapped_class\n",
    "\n",
    "    def __getattr__(self, attr):\n",
    "        original_func = getattr(self.wrapped_class, attr)\n",
    "\n",
    "        def wrapper(*args, **kwargs):\n",
    "            print(f\"Calling function: {attr}\")\n",
    "            print(f\"Arguments: {args}, {kwargs}\")\n",
    "            result = original_func(*args, **kwargs)\n",
    "            print(f\"Response: {result}\")\n",
    "            return result\n",
    "\n",
    "        return wrapper\n",
    "    \n",
    "llm.client = Wrapper(llm.client)\n"
   ]
  },
  {
   "cell_type": "code",
   "execution_count": null,
   "id": "5ff1bc5f",
   "metadata": {},
   "outputs": [],
   "source": [
    "\n",
    "destination_chains = {}\n",
    "for p_info in prompt_infos:\n",
    "    name = p_info[\"name\"]\n",
    "    prompt_template = p_info[\"prompt_template\"]\n",
    "    prompt = ChatPromptTemplate.from_template(template=prompt_template)\n",
    "    chain = LLMChain(llm=llm, prompt=prompt)\n",
    "    destination_chains[name] = chain  \n",
    "    \n",
    "destinations = [f\"{p['name']}: {p['description']}\" for p in prompt_infos]\n",
    "destinations_str = \"\\n\".join(destinations)"
   ]
  },
  {
   "cell_type": "code",
   "execution_count": null,
   "id": "07c2d9b7",
   "metadata": {},
   "outputs": [],
   "source": [
    "default_prompt = ChatPromptTemplate.from_template(\"{input}\")\n",
    "default_chain = LLMChain(llm=llm, prompt=default_prompt)"
   ]
  },
  {
   "cell_type": "code",
   "execution_count": null,
   "id": "9f6f6fe5",
   "metadata": {},
   "outputs": [],
   "source": [
    "MULTI_PROMPT_ROUTER_TEMPLATE = \"\"\"Given a raw text input to a \\\n",
    "language model select the model prompt best suited for the input. \\\n",
    "You will be given the names of the available prompts and a \\\n",
    "description of what the prompt is best suited for. \\\n",
    "You may also revise the original input if you think that revising\\\n",
    "it will ultimately lead to a better response from the language model.\n",
    "\n",
    "<< FORMATTING >>\n",
    "Return a markdown code snippet with a JSON object formatted to look like:\n",
    "```json\n",
    "{{{{\n",
    "    \"destination\": string \\ name of the prompt to use or \"DEFAULT\"\n",
    "    \"next_inputs\": string \\ a potentially modified version of the original input\n",
    "}}}}\n",
    "```\n",
    "\n",
    "REMEMBER: \"destination\" MUST be one of the candidate prompt \\\n",
    "names specified below OR it can be \"DEFAULT\" if the input is not \\\n",
    "well suited for any of the candidate prompts.\n",
    "REMEMBER: \"next_inputs\" can just be the original input \\\n",
    "if you don't think any modifications are needed.\n",
    "\n",
    "<< CANDIDATE PROMPTS >>\n",
    "{destinations}\n",
    "\n",
    "<< INPUT >>\n",
    "{{input}}\n",
    "\n",
    "<< OUTPUT (remember to include the ```json)>>\"\"\""
   ]
  },
  {
   "cell_type": "code",
   "execution_count": null,
   "id": "3333c986",
   "metadata": {},
   "outputs": [],
   "source": [
    "router_template = MULTI_PROMPT_ROUTER_TEMPLATE.format(\n",
    "    destinations=destinations_str\n",
    ")\n",
    "router_prompt = PromptTemplate(\n",
    "    template=router_template,\n",
    "    input_variables=[\"input\"],\n",
    "    output_parser=RouterOutputParser(),\n",
    ")\n",
    "\n",
    "router_chain = LLMRouterChain.from_llm(llm, router_prompt)"
   ]
  },
  {
   "cell_type": "code",
   "execution_count": null,
   "id": "e86818c7",
   "metadata": {},
   "outputs": [],
   "source": [
    "import langchain.callbacks\n",
    "\n",
    "langchain.callbacks.StdOutCallbackHandler\n",
    "\n",
    "from FileCallbackHandler import FileCallbackHandler\n",
    "\n",
    "from pathlib import Path\n",
    "\n",
    "file_ballback_handler = FileCallbackHandler(Path('router_chain.txt'), print_prompts=True, )"
   ]
  },
  {
   "cell_type": "code",
   "execution_count": null,
   "id": "30064187",
   "metadata": {},
   "outputs": [],
   "source": [
    "chain = MultiPromptChain(router_chain=router_chain, \n",
    "                         destination_chains=destination_chains, \n",
    "                         default_chain=default_chain, \n",
    "                         verbose=True, \n",
    "                         callbacks=[file_ballback_handler]\n",
    "                        )"
   ]
  },
  {
   "cell_type": "code",
   "execution_count": null,
   "id": "ed8c1ddc",
   "metadata": {},
   "outputs": [],
   "source": [
    "chain.invoke(\"What is black body radiation?\")"
   ]
  },
  {
   "cell_type": "code",
   "execution_count": null,
   "id": "76eb7d93",
   "metadata": {},
   "outputs": [],
   "source": [
    "chain.run(\"what is 2 + 2\")"
   ]
  },
  {
   "cell_type": "code",
   "execution_count": null,
   "id": "b60e97d9",
   "metadata": {},
   "outputs": [],
   "source": [
    "chain.run(\"Why does every cell in our body contain DNA?\")"
   ]
  }
 ],
 "metadata": {
  "kernelspec": {
   "display_name": "Python 3 (ipykernel)",
   "language": "python",
   "name": "python3"
  },
  "language_info": {
   "codemirror_mode": {
    "name": "ipython",
    "version": 3
   },
   "file_extension": ".py",
   "mimetype": "text/x-python",
   "name": "python",
   "nbconvert_exporter": "python",
   "pygments_lexer": "ipython3",
   "version": "3.10.6"
  }
 },
 "nbformat": 4,
 "nbformat_minor": 5
}
